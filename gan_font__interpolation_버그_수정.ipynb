{
  "nbformat": 4,
  "nbformat_minor": 0,
  "metadata": {
    "colab": {
      "name": "gan_font_ interpolation 버그 수정",
      "provenance": [],
      "collapsed_sections": [],
      "authorship_tag": "ABX9TyOt3XmwmE+aAmvtasmWVuSS",
      "include_colab_link": true
    },
    "kernelspec": {
      "name": "python3",
      "display_name": "Python 3"
    },
    "accelerator": "GPU"
  },
  "cells": [
    {
      "cell_type": "markdown",
      "metadata": {
        "id": "view-in-github",
        "colab_type": "text"
      },
      "source": [
        "<a href=\"https://colab.research.google.com/github/lunaB/AI-Experiment/blob/master/gan_font__interpolation_%EB%B2%84%EA%B7%B8_%EC%88%98%EC%A0%95.ipynb\" target=\"_parent\"><img src=\"https://colab.research.google.com/assets/colab-badge.svg\" alt=\"Open In Colab\"/></a>"
      ]
    },
    {
      "cell_type": "markdown",
      "metadata": {
        "id": "Xw9-_FM91wZg"
      },
      "source": [
        "# REF\n",
        "- https://discuss.pytorch.org/t/error-expected-more-than-1-value-per-channel-when-training/26274\n",
        "- https://pytorch.org/docs/stable/generated/torch.nn.ConvTranspose2d.html\n",
        "- https://realblack0.github.io/2020/05/11/transpose-convolution.html\n",
        "- https://hyunlee103.tistory.com/63\n",
        "- https://pytorch.org/tutorials/beginner/dcgan_faces_tutorial.html\n",
        "- https://stackoverflow.com/questions/62133737/how-does-pytorchs-loss-backward-work-when-retain-graph-true-is-specified (detach)\n",
        "- https://discuss.pytorch.org/t/runtimeerror-trying-to-backward-through-the-graph-a-second-time-but-the-buffers-have-already-been-freed-specify-retain-graph-true-when-calling-backward-the-first-time/6795"
      ]
    },
    {
      "cell_type": "code",
      "metadata": {
        "id": "rD6J6DjRGdIf"
      },
      "source": [
        "from PIL import Image\n",
        "from PIL import ImageDraw\n",
        "from PIL import ImageFont\n",
        "import numpy as np\n",
        "\n",
        "import matplotlib.pyplot as plt\n",
        "import numpy as np\n",
        "import pickle\n",
        "\n",
        "\n",
        "# draw\n",
        "def draw_single_char(ch, font, canvas_size):\n",
        "    image = Image.new('L', (canvas_size, canvas_size), color=255)\n",
        "    drawing = ImageDraw.Draw(image)\n",
        "    w, h = drawing.textsize(ch, font=font)\n",
        "\n",
        "    drawing.text(\n",
        "        ((canvas_size-w)/2, (canvas_size-h)/2),\n",
        "        ch,\n",
        "        fill=(0),\n",
        "        font=font\n",
        "    )\n",
        "    flag = np.sum(np.array(image))\n",
        "    \n",
        "    # 해당 font에 글자 없을시\n",
        "    if flag == 255 * 128 * 128:\n",
        "        print('[warning] 폰트 없음 :', ch)\n",
        "        return None\n",
        "\n",
        "    if w>canvas_size or h>canvas_size:\n",
        "        print('[warning] 사이즈를 맞춰주세요')\n",
        "\n",
        "    return image\n",
        "\n",
        "# ttf to pickle\n",
        "def ttf_to_pkl(text, font_path, pkl_path, canvas_size=128, font_size=90):\n",
        "    font = ImageFont.truetype(font=font_path, size=font_size)\n",
        "\n",
        "    text_img = []\n",
        "\n",
        "    for i in text:\n",
        "        img = draw_single_char(i, font, canvas_size)\n",
        "        text_img.append(np.array(img))\n",
        "\n",
        "    with open(pkl_path, 'wb') as f:\n",
        "        pickle.dump(text_img, f)\n",
        "\n",
        "    # print(np.array(text_img).shape)\n",
        "    # plt.imshow(text_img[0], cmap='gray')\n",
        "    # plt.show()"
      ],
      "execution_count": 41,
      "outputs": []
    },
    {
      "cell_type": "code",
      "metadata": {
        "id": "1kxNeEDNfUoc"
      },
      "source": [
        "def load_pkl(pkl_path):\n",
        "    with open(pkl_path, 'rb') as f:\n",
        "        return pickle.load(f)"
      ],
      "execution_count": 3,
      "outputs": []
    },
    {
      "cell_type": "code",
      "metadata": {
        "id": "7B8bUod9vEfx"
      },
      "source": [
        "import torch\n",
        "import torch.nn as nn\n",
        "import torch.optim as optim\n",
        "\n",
        "def init_weights(m):\n",
        "    if type(m) == nn.Conv2d or type(m) == nn.ConvTranspose2d or type(m) == nn.Linear:\n",
        "        torch.nn.init.xavier_uniform_(m.weight)\n",
        "        # m.bias.data.fill_(0.01)\n",
        "\n",
        "class Encoder(nn.Module):\n",
        "    def __init__(self):\n",
        "        super(Encoder, self).__init__()\n",
        "        cs = 64\n",
        "\n",
        "        # in, out, k, s, p, d\n",
        "        self.e1 = nn.Sequential(\n",
        "            nn.Conv2d(1, cs, 4, 2, 1)\n",
        "        )\n",
        "        self.e2 = nn.Sequential(\n",
        "            nn.LeakyReLU(0.2),\n",
        "            nn.Conv2d(cs, cs*2, 4, 2, 1),\n",
        "            nn.BatchNorm2d(cs*2),\n",
        "        )\n",
        "        self.e3 = nn.Sequential(\n",
        "            nn.LeakyReLU(0.2),\n",
        "            nn.Conv2d(cs*2, cs*4, 4, 2, 1),\n",
        "            nn.BatchNorm2d(cs*4),\n",
        "        )\n",
        "        self.e4 = nn.Sequential(\n",
        "            nn.LeakyReLU(0.2),\n",
        "            nn.Conv2d(cs*4, cs*8, 4, 2, 1),\n",
        "            nn.BatchNorm2d(cs*8),\n",
        "        )\n",
        "        self.e5 = nn.Sequential(\n",
        "            nn.LeakyReLU(0.2),\n",
        "            nn.Conv2d(cs*8, cs*8, 4, 2, 1),\n",
        "            nn.BatchNorm2d(cs*8),\n",
        "        )\n",
        "        self.e6 = nn.Sequential(\n",
        "            nn.LeakyReLU(0.2),\n",
        "            nn.Conv2d(cs*8, cs*8, 4, 2, 1),\n",
        "            nn.BatchNorm2d(cs*8)\n",
        "        )\n",
        "        self.e7 = nn.Sequential(\n",
        "            nn.LeakyReLU(0.2),\n",
        "            nn.Conv2d(cs*8, cs*8, 4, 2, 1),\n",
        "            # nn.BatchNorm2d(cs*8)\n",
        "        )\n",
        "\n",
        "        self.e1.apply(init_weights)\n",
        "        self.e2.apply(init_weights)\n",
        "        self.e3.apply(init_weights)\n",
        "        self.e4.apply(init_weights)\n",
        "        self.e5.apply(init_weights)\n",
        "        self.e6.apply(init_weights)\n",
        "        self.e7.apply(init_weights)\n",
        "\n",
        "    def forward(self, x):\n",
        "        d = dict()\n",
        "        x = self.e1(x)\n",
        "        d['e1'] = x\n",
        "        x = self.e2(x)\n",
        "        d['e2'] = x\n",
        "        x = self.e3(x)\n",
        "        d['e3'] = x\n",
        "        x = self.e4(x)\n",
        "        d['e4'] = x\n",
        "        x = self.e5(x)\n",
        "        d['e5'] = x\n",
        "        x = self.e6(x)\n",
        "        d['e6'] = x\n",
        "        x = self.e7(x)\n",
        "        d['e7'] = x\n",
        "        return x, d\n",
        "\n",
        "        \n",
        "class Decoder(nn.Module):\n",
        "    def __init__(self):\n",
        "        super(Decoder, self).__init__()\n",
        "        cs = 64\n",
        "\n",
        "        # 128 = style vector\n",
        "        self.d1 = nn.Sequential(\n",
        "            nn.LeakyReLU(0.2),\n",
        "            nn.ConvTranspose2d(cs*8+128, cs*8, 3, 1, 1), # e1이랑 합치기위해 유지\n",
        "            # nn.BatchNorm2d(cs*8),\n",
        "            nn.Dropout(0.5)\n",
        "        )\n",
        "        self.d2 = nn.Sequential(\n",
        "            nn.LeakyReLU(0.2),\n",
        "            nn.ConvTranspose2d(cs*16, cs*8, 4, 2, 1),\n",
        "            nn.BatchNorm2d(cs*8),\n",
        "            nn.Dropout(0.5),\n",
        "        )\n",
        "        self.d3 = nn.Sequential(\n",
        "            nn.LeakyReLU(0.2),\n",
        "            nn.ConvTranspose2d(cs*16, cs*8, 4, 2, 1),\n",
        "            nn.BatchNorm2d(cs*8),\n",
        "            nn.Dropout(0.5),\n",
        "        )\n",
        "        self.d4 = nn.Sequential(\n",
        "            nn.LeakyReLU(0.2),\n",
        "            nn.ConvTranspose2d(cs*16, cs*8, 4, 2, 1),\n",
        "            nn.BatchNorm2d(cs*8),\n",
        "        )\n",
        "        self.d5 = nn.Sequential(\n",
        "            nn.LeakyReLU(0.2),\n",
        "            nn.ConvTranspose2d(cs*16, cs*4, 4, 2, 1),\n",
        "            nn.BatchNorm2d(cs*4),\n",
        "        )\n",
        "        self.d6 = nn.Sequential(\n",
        "            nn.LeakyReLU(0.2),\n",
        "            nn.ConvTranspose2d(cs*8, cs*2, 4, 2, 1),\n",
        "            nn.BatchNorm2d(cs*2),\n",
        "        )\n",
        "        self.d7 = nn.Sequential(\n",
        "            nn.LeakyReLU(0.2),\n",
        "            nn.ConvTranspose2d(cs*4, cs, 4, 2, 1),\n",
        "            nn.BatchNorm2d(cs),\n",
        "        )\n",
        "        self.d8 = nn.Sequential(\n",
        "            nn.LeakyReLU(0.2),\n",
        "            nn.ConvTranspose2d(cs*2, 1, 4, 2, 1),\n",
        "            # nn.BatchNorm2d(cs),\n",
        "        )\n",
        "\n",
        "        self.d1.apply(init_weights)\n",
        "        self.d2.apply(init_weights)\n",
        "        self.d3.apply(init_weights)\n",
        "        self.d4.apply(init_weights)\n",
        "        self.d5.apply(init_weights)\n",
        "        self.d6.apply(init_weights)\n",
        "        self.d7.apply(init_weights)\n",
        "        self.d8.apply(init_weights)\n",
        "\n",
        "    def forward(self, x, e):\n",
        "        x = self.d1(x)\n",
        "        x = torch.cat((x, e['e7']), dim=1)\n",
        "        x = self.d2(x)\n",
        "        x = torch.cat((x, e['e6']), dim=1)\n",
        "        x = self.d3(x)\n",
        "        x = torch.cat((x, e['e5']), dim=1)\n",
        "        x = self.d4(x)\n",
        "        x = torch.cat((x, e['e4']), dim=1)\n",
        "        x = self.d5(x)\n",
        "        x = torch.cat((x, e['e3']), dim=1)\n",
        "        x = self.d6(x)\n",
        "        x = torch.cat((x, e['e2']), dim=1)\n",
        "        x = self.d7(x)\n",
        "        x = torch.cat((x, e['e1']), dim=1)\n",
        "        x = self.d8(x)\n",
        "        x = torch.tanh(x)\n",
        "        return x\n",
        "\n",
        "class Generator(nn.Module):\n",
        "    def __init__(self, En, De):\n",
        "        super(Generator, self).__init__()\n",
        "        self.En = En()\n",
        "        self.De = De()\n",
        "\n",
        "    def forward(self, x, vec):\n",
        "        x, d = self.En(x)\n",
        "        x = torch.cat((x, vec), dim=1)\n",
        "        x = self.De(x, d)\n",
        "        return x\n",
        "\n",
        "class Discriminator(nn.Module):\n",
        "    def __init__(self, category_num):\n",
        "        super(Discriminator, self).__init__()\n",
        "        cs = 64\n",
        "\n",
        "        self.category_num = category_num\n",
        "\n",
        "        self.d1 = nn.Sequential(\n",
        "            # nn.LeakyReLU(0.2),\n",
        "            nn.Conv2d(1, cs, 4, 2, 1)\n",
        "        )\n",
        "        self.d2 = nn.Sequential(\n",
        "            nn.LeakyReLU(0.2),\n",
        "            nn.Conv2d(cs, cs*2, 4, 2, 1),\n",
        "            nn.BatchNorm2d(cs*2),\n",
        "        )\n",
        "        self.d3 = nn.Sequential(\n",
        "            nn.LeakyReLU(0.2),\n",
        "            nn.Conv2d(cs*2, cs*4, 4, 2, 1),\n",
        "            nn.BatchNorm2d(cs*4),\n",
        "        )\n",
        "        self.d4 = nn.Sequential(\n",
        "            nn.LeakyReLU(0.2),\n",
        "            nn.Conv2d(cs*4, cs*8, 4, 2, 1),\n",
        "            nn.BatchNorm2d(cs*8),\n",
        "        )\n",
        "        self.fc_tf = nn.Sequential(\n",
        "            nn.Flatten(),\n",
        "            nn.Linear(cs*8*8*8, 1),\n",
        "        )\n",
        "        self.fc_cg = nn.Sequential(\n",
        "            nn.Flatten(),\n",
        "            nn.Linear(cs*8*8*8, category_num),\n",
        "        )\n",
        "\n",
        "        self.d1.apply(init_weights)\n",
        "        self.d2.apply(init_weights)\n",
        "        self.d3.apply(init_weights)\n",
        "        self.d4.apply(init_weights)\n",
        "        self.fc_tf.apply(init_weights)\n",
        "        self.fc_cg.apply(init_weights)\n",
        "\n",
        "    def forward(self, x):\n",
        "        x = self.d1(x)\n",
        "        x = self.d2(x)\n",
        "        x = self.d3(x)\n",
        "        x = self.d4(x)\n",
        "\n",
        "        tf = self.fc_tf(x)\n",
        "        cg = self.fc_cg(x)\n",
        "\n",
        "        return tf, cg"
      ],
      "execution_count": 4,
      "outputs": []
    },
    {
      "cell_type": "code",
      "metadata": {
        "colab": {
          "base_uri": "https://localhost:8080/"
        },
        "id": "FR1jkb-QP7J0",
        "outputId": "313252e7-09f9-446e-eed4-2e593b29f506"
      },
      "source": [
        "upper = \"A, B, C, D, E, F, G, H, I, J, K, L, M, N, O, P, Q, R, S, T, U, V, W, X, Y, Z\"\n",
        "lower = \"a, b, c, d, e, f, g, h, i, j, k, l, m, n, o, p, q, r, s, t, u, v, w, x, y, z\"\n",
        "# number = \"0, 1, 2, 3, 4, 5, 6, 7, 8, 9\"\n",
        "\n",
        "# text = (upper+', '+lower+', '+number).split(\", \")\n",
        "text = (upper+', '+lower).split(\", \")\n",
        "\n",
        "ttf_to_pkl(text, 'NanumGothic-Regular.ttf', 'NanumGothic-Regular.pkl')\n",
        "source = load_pkl('NanumGothic-Regular.pkl')\n",
        "source = np.array(source)\n",
        "\n",
        "ttf_to_pkl(text, 'Langar-Regular.ttf', 'Langar-Regular.pkl')\n",
        "ttf_to_pkl(text, 'Audiowide-Regular.ttf', 'Audiowide-Regular.pkl')\n",
        "t1 = load_pkl('Langar-Regular.pkl')\n",
        "t2 = load_pkl('Audiowide-Regular.pkl')\n",
        "target = np.array([t1, t2])\n",
        "print(source.shape, target.shape)"
      ],
      "execution_count": 42,
      "outputs": [
        {
          "output_type": "stream",
          "text": [
            "(52, 128, 128) (2, 52, 128, 128)\n"
          ],
          "name": "stdout"
        }
      ]
    },
    {
      "cell_type": "markdown",
      "metadata": {
        "id": "gq21zPKSX8Lb"
      },
      "source": [
        "# 데이터 전처리\n"
      ]
    },
    {
      "cell_type": "code",
      "metadata": {
        "colab": {
          "base_uri": "https://localhost:8080/"
        },
        "id": "Au1XlYFdX6n7",
        "outputId": "3c7934f6-e345-44a0-9ea8-73fa6a5942ce"
      },
      "source": [
        "from torch.utils.data import DataLoader, TensorDataset\n",
        "\n",
        "source_tensor = torch.FloatTensor(source) / 255\n",
        "target_tensor = torch.FloatTensor([t1, t2]) / 255\n",
        "print(source_tensor.shape, target_tensor.shape)\n",
        "\n",
        "cg_num = target_tensor.shape[0]\n",
        "font_num = target_tensor.shape[1]\n",
        "\n",
        "x_data = torch.FloatTensor(source_tensor).repeat(2, 1, 1).view((cg_num * font_num, 1, 128, 128))\n",
        "t_data = torch.FloatTensor(target_tensor).view((cg_num * font_num, 1, 128, 128))\n",
        "t_meta = torch.LongTensor([[j, i] for j in range(cg_num) for i in range(font_num)]) # [cg, font]\n",
        "c_vec = np.random.normal(size=(cg_num, 128, 1, 1))\n",
        "\n",
        "c_vec_t = torch.FloatTensor([c_vec[i] for i in range(cg_num) for _ in range(font_num)])\n",
        "\n",
        "x_data = x_data.cuda()\n",
        "t_data = t_data.cuda()\n",
        "c_vec_t = c_vec_t.cuda()\n",
        "\n",
        "print(x_data.shape)\n",
        "print(t_meta.shape)\n",
        "print(c_vec.shape)\n",
        "print(c_vec_t.shape)"
      ],
      "execution_count": 32,
      "outputs": [
        {
          "output_type": "stream",
          "text": [
            "torch.Size([52, 128, 128]) torch.Size([2, 52, 128, 128])\n",
            "torch.Size([104, 1, 128, 128])\n",
            "torch.Size([104, 2])\n",
            "(2, 128, 1, 1)\n",
            "torch.Size([104, 128, 1, 1])\n"
          ],
          "name": "stdout"
        }
      ]
    },
    {
      "cell_type": "markdown",
      "metadata": {
        "id": "lfZZdEM8YCOw"
      },
      "source": [
        "# 학습"
      ]
    },
    {
      "cell_type": "code",
      "metadata": {
        "colab": {
          "base_uri": "https://localhost:8080/",
          "height": 1000
        },
        "id": "ixPFol2lX8bj",
        "outputId": "065f80f4-413c-40b0-ca3d-1dfa82002537"
      },
      "source": [
        "epochs = 50\n",
        "batch_size = 30\n",
        "\n",
        "ds = TensorDataset(x_data, t_data, t_meta, c_vec_t)\n",
        "loader = DataLoader(ds, batch_size=batch_size, shuffle=True)\n",
        "\n",
        "encoder = Encoder().cuda()\n",
        "decoder = Decoder().cuda()\n",
        "discriminator = Discriminator(category_num=cg_num).cuda()\n",
        "\n",
        "def generate(ch, style):\n",
        "    encoder.eval()\n",
        "    decoder.eval()\n",
        "    discriminator.eval()\n",
        "    x = torch.FloatTensor(source[ch]).view((1, 1, 128, 128)).cuda()\n",
        "    c = torch.FloatTensor(c_vec[style]).view((1, 128, 1, 1)).cuda()\n",
        "    # print(c.shape)\n",
        "    z, e_net = encoder(x)\n",
        "    d_in = torch.cat((z, c), dim=1)\n",
        "    d_out = decoder(d_in, e_net).detach()\n",
        "    # print(d_out.shape)\n",
        "    # print(d_out)\n",
        "    image = d_out.cpu()\n",
        "\n",
        "    return image\n",
        "\n",
        "def gprint(ch, s1, s2):\n",
        "    g1 = generate(ch, s1)\n",
        "    g2 = generate(ch, s2)\n",
        "    print('문자:',text[ch], '유사도:', (g1 == g2).float().mean())\n",
        "    plt.subplot(221)\n",
        "    plt.imshow(g1.numpy()[0, 0], cmap='gray')\n",
        "    plt.subplot(222)\n",
        "    plt.imshow(g2.numpy()[0, 0], cmap='gray')\n",
        "    plt.show()\n",
        "\n",
        "encoder.train()\n",
        "decoder.train()\n",
        "discriminator.train()\n",
        "\n",
        "l1_criterion = nn.L1Loss().cuda()\n",
        "bce_criterion = nn.BCEWithLogitsLoss().cuda()\n",
        "ce_criterion = nn.CrossEntropyLoss().cuda()\n",
        "mse_criterion = nn.MSELoss().cuda()\n",
        "\n",
        "g_optimizer = optim.Adam(list(encoder.parameters()) + list(decoder.parameters()), lr=0.0001)\n",
        "d_optimizer = optim.Adam(discriminator.parameters(), lr=0.0001)\n",
        "\n",
        "L1_W = 500\n",
        "MSE_W = 1000\n",
        "# L1_W = 150\n",
        "# MSE_W = 20\n",
        "\n",
        "\n",
        "print('batch_size: %d, category_num: %d, font_num: %d'%(batch_size, cg_num, font_num))\n",
        "\n",
        "log = []\n",
        "\n",
        "for epoch in range(epochs):\n",
        "    \n",
        "    encoder.train()\n",
        "    decoder.train()\n",
        "    discriminator.train()\n",
        "\n",
        "    d_total_loss = []\n",
        "    g_total_loss = []\n",
        "\n",
        "    l1_loss_arr = []\n",
        "    ff_bce_loss_arr = []\n",
        "    bce_loss_arr = []\n",
        "    ce_loss_arr = []\n",
        "    z_loss_arr = []\n",
        "\n",
        "    for x, t, tm, c in loader:\n",
        "        # print(x.shape, xm.shape, c.shape)\n",
        "\n",
        "        cg = tm.T[0]\n",
        "        font = tm.T[0]\n",
        "\n",
        "        z, e_net = encoder(x)\n",
        "        d_in = torch.cat((z, c), dim=1)\n",
        "        d_out = decoder(d_in, e_net)\n",
        "        # print(z.shape, d_in.shape, d_out.shape)\n",
        "\n",
        "        # [debug]\n",
        "        # plt.imshow(x.cpu()[0,0])\n",
        "        # plt.show()\n",
        "        # plt.imshow(t.cpu()[0,0])\n",
        "        # plt.show()\n",
        "        # print(tm[0])\n",
        "        # print(c[0,0,0,0])\n",
        "\n",
        "        real_tf, real_cg = discriminator(t)\n",
        "        fake_tf, fake_cg = discriminator(d_out)\n",
        "\n",
        "        # 정답 텐서\n",
        "        one_tensor = torch.ones(x.shape[0], 1).cuda()\n",
        "        zero_tensor = torch.zeros(x.shape[0], 1).cuda()\n",
        "\n",
        "        # [dis] 가짜 검출 로스\n",
        "        r_bce_loss = bce_criterion(real_tf, one_tensor)\n",
        "        f_bce_loss = bce_criterion(fake_tf, zero_tensor)\n",
        "        bce_loss = r_bce_loss + f_bce_loss\n",
        "        \n",
        "        # [dis] 카테고리 예측 로스\n",
        "        category = torch.FloatTensor(np.array(np.eye(cg_num)[cg])).cuda() \n",
        "        # print(category.cpu()[0]) # [debug]\n",
        "        r_ce_loss = bce_criterion(real_cg, category)\n",
        "        f_ce_loss = bce_criterion(fake_cg, category) # 카테고리 예측 로스\n",
        "        ce_loss = 0.5*(r_ce_loss + f_ce_loss)\n",
        "\n",
        "        # [gen.en] z vector 유사도 로스\n",
        "        t_z = encoder(t)[0]\n",
        "        z_loss = mse_criterion(z, t_z)\n",
        "\n",
        "        # [gen] 타겟 유사도 로스\n",
        "        l1_loss = l1_criterion(d_out, t)\n",
        "\n",
        "        # [gen] 변조 성공 로스\n",
        "        ff_bce_loss = bce_criterion(fake_tf, one_tensor)\n",
        "\n",
        "        # loss grad\n",
        "        g_loss = (L1_W * l1_loss) + ff_bce_loss + (MSE_W * z_loss) + f_ce_loss\n",
        "        d_loss = bce_loss + ce_loss\n",
        "\n",
        "        # discriminator\n",
        "        discriminator.zero_grad()\n",
        "        d_loss.backward(retain_graph=True)\n",
        "\n",
        "        # generator\n",
        "        encoder.zero_grad()\n",
        "        decoder.zero_grad()\n",
        "        g_loss.backward(retain_graph=True)\n",
        "\n",
        "        g_optimizer.step()\n",
        "        if epoch%2 == 0:\n",
        "            d_optimizer.step()\n",
        "\n",
        "        # log\n",
        "        d_total_loss.append(d_loss.item())\n",
        "        g_total_loss.append(g_loss.item())\n",
        "\n",
        "        l1_loss_arr.append(l1_loss.item())\n",
        "        ff_bce_loss_arr.append(ff_bce_loss.item())\n",
        "        bce_loss_arr.append(bce_loss.item())\n",
        "        ce_loss_arr.append(ce_loss.item())\n",
        "        z_loss_arr.append(z_loss.item())\n",
        "\n",
        "    log.append([d_total_loss, g_total_loss, l1_loss_arr, ff_bce_loss_arr, bce_loss_arr, ce_loss_arr, z_loss_arr])\n",
        "\n",
        "    print('epoch: %d/%d\\tg_loss: %f\\td_loss: %f'%(epoch+1, epochs, sum(g_total_loss), sum(d_total_loss)))\n",
        "    if (epoch+1) % 10 == 0:\n",
        "        gprint(np.random.randint(0, source.shape[0]), 0, 1)"
      ],
      "execution_count": 45,
      "outputs": [
        {
          "output_type": "stream",
          "text": [
            "batch_size: 30, category_num: 2, font_num: 52\n",
            "epoch: 1/50\tg_loss: 1951.590790\td_loss: 54.117905\n",
            "epoch: 2/50\tg_loss: 1438.208008\td_loss: 16.732969\n",
            "epoch: 3/50\tg_loss: 1265.072296\td_loss: 7.598472\n",
            "epoch: 4/50\tg_loss: 1129.604065\td_loss: 21.754175\n",
            "epoch: 5/50\tg_loss: 1035.984161\td_loss: 19.663248\n",
            "epoch: 6/50\tg_loss: 968.467087\td_loss: 4.042947\n",
            "epoch: 7/50\tg_loss: 901.453445\td_loss: 5.682412\n",
            "epoch: 8/50\tg_loss: 841.204697\td_loss: 14.346702\n",
            "epoch: 9/50\tg_loss: 789.686340\td_loss: 11.469467\n",
            "epoch: 10/50\tg_loss: 746.976913\td_loss: 4.112610\n",
            "문자: D 유사도: tensor(0.9972)\n"
          ],
          "name": "stdout"
        },
        {
          "output_type": "display_data",
          "data": {
            "image/png": "[encoded data removed]",
            "text/plain": [
              "<Figure size 432x288 with 2 Axes>"
            ]
          },
          "metadata": {
            "tags": [],
            "needs_background": "light"
          }
        },
        {
          "output_type": "stream",
          "text": [
            "epoch: 11/50\tg_loss: 702.551849\td_loss: 5.487314\n",
            "epoch: 12/50\tg_loss: 659.768326\td_loss: 11.113660\n",
            "epoch: 13/50\tg_loss: 626.413788\td_loss: 7.469130\n",
            "epoch: 14/50\tg_loss: 597.510803\td_loss: 3.947535\n",
            "epoch: 15/50\tg_loss: 563.401108\td_loss: 5.458342\n",
            "epoch: 16/50\tg_loss: 536.068802\td_loss: 7.108909\n",
            "epoch: 17/50\tg_loss: 509.846931\td_loss: 6.510790\n",
            "epoch: 18/50\tg_loss: 483.333565\td_loss: 5.842848\n",
            "epoch: 19/50\tg_loss: 460.160545\td_loss: 5.300147\n",
            "epoch: 20/50\tg_loss: 437.119362\td_loss: 4.284541\n",
            "문자: E 유사도: tensor(0.9995)\n"
          ],
          "name": "stdout"
        },
        {
          "output_type": "display_data",
          "data": {
            "image/png": "[encoded data removed]",
            "text/plain": [
              "<Figure size 432x288 with 2 Axes>"
            ]
          },
          "metadata": {
            "tags": [],
            "needs_background": "light"
          }
        },
        {
          "output_type": "stream",
          "text": [
            "epoch: 21/50\tg_loss: 417.653885\td_loss: 3.805465\n",
            "epoch: 22/50\tg_loss: 398.132401\td_loss: 3.284250\n",
            "epoch: 23/50\tg_loss: 379.193634\td_loss: 3.640031\n",
            "epoch: 24/50\tg_loss: 361.406273\td_loss: 4.886186\n",
            "epoch: 25/50\tg_loss: 347.010605\td_loss: 4.119715\n",
            "epoch: 26/50\tg_loss: 331.065926\td_loss: 8.515875\n",
            "epoch: 27/50\tg_loss: 316.215073\td_loss: 5.654973\n",
            "epoch: 28/50\tg_loss: 301.485588\td_loss: 5.452413\n",
            "epoch: 29/50\tg_loss: 291.296486\td_loss: 4.729742\n",
            "epoch: 30/50\tg_loss: 275.463623\td_loss: 7.223196\n",
            "문자: t 유사도: tensor(0.9997)\n"
          ],
          "name": "stdout"
        },
        {
          "output_type": "display_data",
          "data": {
            "image/png": "[encoded data removed]",
            "text/plain": [
              "<Figure size 432x288 with 2 Axes>"
            ]
          },
          "metadata": {
            "tags": [],
            "needs_background": "light"
          }
        },
        {
          "output_type": "stream",
          "text": [
            "epoch: 31/50\tg_loss: 264.548126\td_loss: 4.065720\n",
            "epoch: 32/50\tg_loss: 254.833439\td_loss: 5.829954\n",
            "epoch: 33/50\tg_loss: 241.685543\td_loss: 4.868091\n",
            "epoch: 34/50\tg_loss: 234.802742\td_loss: 4.883768\n",
            "epoch: 35/50\tg_loss: 225.362358\td_loss: 7.460103\n",
            "epoch: 36/50\tg_loss: 215.045780\td_loss: 10.374572\n",
            "epoch: 37/50\tg_loss: 208.008118\td_loss: 7.772563\n",
            "epoch: 38/50\tg_loss: 194.851089\td_loss: 11.072604\n",
            "epoch: 39/50\tg_loss: 186.157230\td_loss: 8.038888\n",
            "epoch: 40/50\tg_loss: 180.376884\td_loss: 10.566247\n",
            "문자: w 유사도: tensor(0.9981)\n"
          ],
          "name": "stdout"
        },
        {
          "output_type": "display_data",
          "data": {
            "image/png": "[encoded data removed]",
            "text/plain": [
              "<Figure size 432x288 with 2 Axes>"
            ]
          },
          "metadata": {
            "tags": [],
            "needs_background": "light"
          }
        },
        {
          "output_type": "stream",
          "text": [
            "epoch: 41/50\tg_loss: 171.059719\td_loss: 13.274555\n",
            "epoch: 42/50\tg_loss: 166.364826\td_loss: 12.413280\n",
            "epoch: 43/50\tg_loss: 160.178246\td_loss: 12.839151\n",
            "epoch: 44/50\tg_loss: 153.643356\td_loss: 7.896954\n",
            "epoch: 45/50\tg_loss: 147.103168\td_loss: 6.841405\n",
            "epoch: 46/50\tg_loss: 142.939667\td_loss: 5.434306\n",
            "epoch: 47/50\tg_loss: 137.757561\td_loss: 6.183309\n",
            "epoch: 48/50\tg_loss: 133.676697\td_loss: 5.760573\n",
            "epoch: 49/50\tg_loss: 130.986191\td_loss: 6.120376\n",
            "epoch: 50/50\tg_loss: 126.881073\td_loss: 6.667116\n",
            "문자: E 유사도: tensor(0.9994)\n"
          ],
          "name": "stdout"
        },
        {
          "output_type": "display_data",
          "data": {
            "image/png": "[encoded data removed]",
            "text/plain": [
              "<Figure size 432x288 with 2 Axes>"
            ]
          },
          "metadata": {
            "tags": [],
            "needs_background": "light"
          }
        }
      ]
    },
    {
      "cell_type": "code",
      "metadata": {
        "colab": {
          "base_uri": "https://localhost:8080/",
          "height": 1000
        },
        "id": "kV4JnIOhtqvf",
        "outputId": "ebc38d4c-a166-485c-d42e-6a68598746b0"
      },
      "source": [
        "nlog = np.array(log).T.swapaxes(0,1)\n",
        "print(nlog.shape)\n",
        "n = ['d_loss','g_loss','l1', 'ff', 'bce', 'ce', 'z']\n",
        "plt.tight_layout()\n",
        "for i in range(len(n)):\n",
        "    x = np.linspace(0, epochs, epochs)\n",
        "    plt.title(n[i])\n",
        "    y1 = nlog[i].max(0)\n",
        "    y2 = nlog[i].min(0)\n",
        "    plt.fill_between(x, y1, y2, where=(y1 > y2), alpha=0.2)\n",
        "    plt.plot(nlog[i].mean(0))\n",
        "    plt.show()"
      ],
      "execution_count": 46,
      "outputs": [
        {
          "output_type": "stream",
          "text": [
            "(7, 4, 50)\n"
          ],
          "name": "stdout"
        },
        {
          "output_type": "display_data",
          "data": {
            "image/png": "[encoded data removed]",
            "text/plain": [
              "<Figure size 432x288 with 1 Axes>"
            ]
          },
          "metadata": {
            "tags": [],
            "needs_background": "light"
          }
        },
        {
          "output_type": "display_data",
          "data": {
            "image/png": "[encoded data removed]",
            "text/plain": [
              "<Figure size 432x288 with 1 Axes>"
            ]
          },
          "metadata": {
            "tags": [],
            "needs_background": "light"
          }
        },
        {
          "output_type": "display_data",
          "data": {
            "image/png": "[encoded data removed]",
            "text/plain": [
              "<Figure size 432x288 with 1 Axes>"
            ]
          },
          "metadata": {
            "tags": [],
            "needs_background": "light"
          }
        },
        {
          "output_type": "display_data",
          "data": {
            "image/png": "[encoded data removed]",
            "text/plain": [
              "<Figure size 432x288 with 1 Axes>"
            ]
          },
          "metadata": {
            "tags": [],
            "needs_background": "light"
          }
        },
        {
          "output_type": "display_data",
          "data": {
            "image/png": "[encoded data removed]",
            "text/plain": [
              "<Figure size 432x288 with 1 Axes>"
            ]
          },
          "metadata": {
            "tags": [],
            "needs_background": "light"
          }
        },
        {
          "output_type": "display_data",
          "data": {
            "image/png": "[encoded data removed]",
            "text/plain": [
              "<Figure size 432x288 with 1 Axes>"
            ]
          },
          "metadata": {
            "tags": [],
            "needs_background": "light"
          }
        },
        {
          "output_type": "display_data",
          "data": {
            "image/png": "[encoded data removed]",
            "text/plain": [
              "<Figure size 432x288 with 1 Axes>"
            ]
          },
          "metadata": {
            "tags": [],
            "needs_background": "light"
          }
        }
      ]
    },
    {
      "cell_type": "code",
      "metadata": {
        "id": "9yb2to4Tb_X3"
      },
      "source": [
        "# t\n",
        "plt.imshow(target[0, 0], cmap='gray')\n",
        "plt.show()\n",
        "plt.imshow(target[1, 0], cmap='gray')\n",
        "plt.show()\n",
        "plt.imshow(source[0], cmap='gray')\n",
        "plt.show()"
      ],
      "execution_count": null,
      "outputs": []
    },
    {
      "cell_type": "code",
      "metadata": {
        "id": "B3BPxyRtvHed"
      },
      "source": [
        "# Test\n",
        "gx = torch.FloatTensor([source[0]]).reshape((-1,1,128,128)) / 255\n",
        "style_vector = torch.FloatTensor(np.random.normal(size=(1, 128, 1, 1)))\n",
        "\n",
        "generator = Generator(En, De)\n",
        "gy = generator(gx, style_vector)\n",
        "\n",
        "dx = gy\n",
        "print(dx.shape)\n",
        "print(dx)\n",
        "descriminator = Discriminator(category_num=2)\n",
        "dy = descriminator(dx)\n",
        "print(dy[1].shape)\n",
        "print(dy[2].shape)\n",
        "\n",
        "plt.imshow(source[0], cmap='gray')\n",
        "plt.show()\n",
        "plt.imshow(gy.detach().numpy()[0,0], cmap='gray')\n",
        "plt.show()"
      ],
      "execution_count": null,
      "outputs": []
    },
    {
      "cell_type": "code",
      "metadata": {
        "id": "C-jHCgEDt1YG"
      },
      "source": [
        "# 실험 1\n",
        "# vector = np.random.normal(size=(1, 128, 1, 1))\n",
        "vector1 = torch.FloatTensor(np.random.normal(size=(1, 128)))\n",
        "vector2 = torch.FloatTensor(np.random.normal(size=(1, 128)))\n",
        "vector3 = torch.FloatTensor(np.random.normal(size=(1, 128)))"
      ],
      "execution_count": null,
      "outputs": []
    },
    {
      "cell_type": "code",
      "metadata": {
        "id": "TXzK81WNg9tq"
      },
      "source": [
        "print(torch.cdist(vector1, vector2))\n",
        "print(torch.cdist(vector1, vector3))"
      ],
      "execution_count": null,
      "outputs": []
    },
    {
      "cell_type": "code",
      "metadata": {
        "id": "HUWiYINclknr"
      },
      "source": [
        "a = np.array([[-6,-2,-4]]) \n",
        "b = np.array([[1,3,2]]) \n",
        "\n",
        "c = torch.FloatTensor(a)\n",
        "d = torch.FloatTensor(b)\n",
        "\n",
        "print(0, c)\n",
        "di = 1/3\n",
        "print(1, c + (d - c) * di)\n",
        "di = 2/3\n",
        "print(2, c + (d - c) * di)\n",
        "print(3, d)\n",
        "\n",
        "print('distence:', torch.cdist(c, d, 1))"
      ],
      "execution_count": null,
      "outputs": []
    },
    {
      "cell_type": "code",
      "metadata": {
        "id": "0TgQQvmcmoRb"
      },
      "source": [
        "a = np.array([[-1,-1]]) \n",
        "b = np.array([[1,1]]) \n",
        "\n",
        "c = torch.FloatTensor(a)\n",
        "d = torch.FloatTensor(b)\n",
        "\n",
        "def sub_distence(a, b, s):\n",
        "    return a + (b - a) * s\n",
        "\n",
        "print('distence:', torch.cdist(c, d, 1))\n",
        "n = 4\n",
        "for i in range(n):\n",
        "    sp = sub_distence(c, d, i/(n-1)).numpy()[0]\n",
        "    plt.scatter(sp[0], sp[1])\n",
        "plt.show()"
      ],
      "execution_count": null,
      "outputs": []
    },
    {
      "cell_type": "code",
      "metadata": {
        "id": "MmE7AGV8eSGJ"
      },
      "source": [
        "# t\n",
        "plt.imshow(target[1,1], cmap='gray')\n",
        "plt.show()\n",
        "plt.imshow(source[1], cmap='gray')\n",
        "plt.show()"
      ],
      "execution_count": null,
      "outputs": []
    }
  ]
}