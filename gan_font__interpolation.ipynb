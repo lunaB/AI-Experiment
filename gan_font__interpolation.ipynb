{
  "nbformat": 4,
  "nbformat_minor": 0,
  "metadata": {
    "colab": {
      "name": "gan_font_ interpolation.ipynb",
      "provenance": [],
      "collapsed_sections": [],
      "authorship_tag": "ABX9TyOYdEipCGDWw9/ljP/wzkM1",
      "include_colab_link": true
    },
    "kernelspec": {
      "name": "python3",
      "display_name": "Python 3"
    }
  },
  "cells": [
    {
      "cell_type": "markdown",
      "metadata": {
        "id": "view-in-github",
        "colab_type": "text"
      },
      "source": [
        "<a href=\"https://colab.research.google.com/github/lunaB/AI-Experiment/blob/master/gan_font__interpolation.ipynb\" target=\"_parent\"><img src=\"https://colab.research.google.com/assets/colab-badge.svg\" alt=\"Open In Colab\"/></a>"
      ]
    },
    {
      "cell_type": "code",
      "metadata": {
        "id": "rD6J6DjRGdIf"
      },
      "source": [
        "from PIL import Image\n",
        "from PIL import ImageDraw\n",
        "from PIL import ImageFont\n",
        "import numpy as np\n",
        "\n",
        "import matplotlib.pyplot as plt\n",
        "import numpy as np\n",
        "import pickle\n",
        "\n",
        "\n",
        "# draw\n",
        "def draw_single_char(ch, font, canvas_size):\n",
        "    image = Image.new('L', (canvas_size, canvas_size), color=255)\n",
        "    drawing = ImageDraw.Draw(image)\n",
        "    w, h = drawing.textsize(ch, font=font)\n",
        "\n",
        "    drawing.text(\n",
        "        ((canvas_size-w)/2, (canvas_size-h)/2),\n",
        "        ch,\n",
        "        fill=(0),\n",
        "        font=font\n",
        "    )\n",
        "    flag = np.sum(np.array(image))\n",
        "    \n",
        "    # 해당 font에 글자 없을시\n",
        "    if flag == 255 * 128 * 128:\n",
        "        return None\n",
        "\n",
        "    if w>canvas_size or h>canvas_size:\n",
        "        print('[warning] 사이즈를 맞춰주세요')\n",
        "\n",
        "    return image\n",
        "\n",
        "# ttf to pickle\n",
        "def ttf_to_pkl(font_path, pkl_path, canvas_size=128, font_size=90):\n",
        "    font = ImageFont.truetype(font=font_path, size=font_size)\n",
        "    upper = \"A, B, C, D, E, F, G, H, I, J, K, L, M, N, O, P, Q, R, S, T, U, V, W, X, Y, Z\"\n",
        "    lower = \"a, b, c, d, e, f, g, h, i, j, k, l, m, n, o, p, q, r, s, t, u, v, w, x, y, z\"\n",
        "\n",
        "    text = (upper+', '+lower).split(\", \")\n",
        "\n",
        "    text_img = []\n",
        "\n",
        "    for i in text:\n",
        "        img = draw_single_char(i, font, canvas_size)\n",
        "        text_img.append(np.array(img))\n",
        "\n",
        "    with open(pkl_path, 'wb') as f:\n",
        "        pickle.dump(text_img, f)\n",
        "\n",
        "    # print(np.array(text_img).shape)\n",
        "    # plt.imshow(text_img[0], cmap='gray')\n",
        "    # plt.show()"
      ],
      "execution_count": 9,
      "outputs": []
    },
    {
      "cell_type": "code",
      "metadata": {
        "id": "_dqiANtcfALs"
      },
      "source": [
        "ttf_to_pkl('Langar-Regular.ttf', 'Langar-Regular.pkl')\n",
        "ttf_to_pkl('NanumGothic-Regular.ttf', 'NanumGothic-Regular.pkl')"
      ],
      "execution_count": 10,
      "outputs": []
    },
    {
      "cell_type": "code",
      "metadata": {
        "id": "1kxNeEDNfUoc"
      },
      "source": [
        "def load_pkl(pkl_path):\n",
        "    with open(pkl_path, 'rb') as f:\n",
        "        return pickle.load(f)"
      ],
      "execution_count": 11,
      "outputs": []
    },
    {
      "cell_type": "code",
      "metadata": {
        "id": "DQv9MRHdsMbT"
      },
      "source": [
        "target = load_pkl('Langar-Regular.pkl')\n",
        "source = load_pkl('NanumGothic-Regular.pkl')"
      ],
      "execution_count": 12,
      "outputs": []
    },
    {
      "cell_type": "code",
      "metadata": {
        "colab": {
          "base_uri": "https://localhost:8080/",
          "height": 519
        },
        "id": "MmE7AGV8eSGJ",
        "outputId": "2a298925-c74b-47a6-dd46-5c43a1ca4014"
      },
      "source": [
        "plt.imshow(source[1], cmap='gray')\n",
        "plt.show()\n",
        "plt.imshow(target[1], cmap='gray')\n",
        "plt.show()"
      ],
      "execution_count": 13,
      "outputs": [
        {
          "output_type": "display_data",
          "data": {
            "image/png": "[encoded data removed]",
            "text/plain": [
              "<Figure size 432x288 with 1 Axes>"
            ]
          },
          "metadata": {
            "tags": [],
            "needs_background": "light"
          }
        },
        {
          "output_type": "display_data",
          "data": {
            "image/png": "[encoded data removed]",
            "text/plain": [
              "<Figure size 432x288 with 1 Axes>"
            ]
          },
          "metadata": {
            "tags": [],
            "needs_background": "light"
          }
        }
      ]
    },
    {
      "cell_type": "code",
      "metadata": {
        "id": "7B8bUod9vEfx"
      },
      "source": [
        "import torch\n",
        "import torch.nn as nn\n",
        "import torch.optim as optim\n",
        "\n",
        "def Conv2d(c_in, c_out):\n",
        "    return nn.Sequential(\n",
        "        nn.LeakyReLU(0.2),\n",
        "        nn.Conv2d(c_in, c_out),\n",
        "        nn.BatchNorm2d(c_out)\n",
        "    )\n",
        "def DeConv2d(c_in, c_out):\n",
        "    return nn.Sequential(\n",
        "        nn.LeakyReLU(0.2),\n",
        "        nn.ConvTranspose2d(c_in, c_out),\n",
        "        nn.BatchNorm2d(c_out),\n",
        "        nn.Dropout(0.5),\n",
        "    )\n",
        "\n",
        "class En(nn.Module):\n",
        "    def __init__(self):\n",
        "        super(En, self).__init__()\n",
        "        cs = 64\n",
        "\n",
        "        # in, out, k, s, p\n",
        "        self.e1 = nn.Sequential(\n",
        "            nn.Conv2d(1, cs, 4, 2, 1)\n",
        "        )\n",
        "        self.e2 = nn.Sequential(\n",
        "            nn.LeakyReLU(0.2),\n",
        "            nn.Conv2d(cs, cs*2, 4, 2, 1),\n",
        "            nn.BatchNorm2d(cs*2),\n",
        "        )\n",
        "        self.e3 = nn.Sequential(\n",
        "            nn.LeakyReLU(0.2),\n",
        "            nn.Conv2d(cs*2, cs*4, 4, 2, 1),\n",
        "            nn.BatchNorm2d(cs*4),\n",
        "        )\n",
        "        self.e4 = nn.Sequential(\n",
        "            nn.LeakyReLU(0.2),\n",
        "            nn.Conv2d(cs*4, cs*8, 4, 2, 1),\n",
        "            nn.BatchNorm2d(cs*8),\n",
        "        )\n",
        "        self.e5 = nn.Sequential(\n",
        "            nn.LeakyReLU(0.2),\n",
        "            nn.Conv2d(cs*8, cs*8, 4, 2, 1),\n",
        "            nn.BatchNorm2d(cs*8),\n",
        "        )\n",
        "        self.e6 = nn.Sequential(\n",
        "            nn.LeakyReLU(0.2),\n",
        "            nn.Conv2d(cs*8, cs*8, 4, 2, 1),\n",
        "            nn.BatchNorm2d(cs*8)\n",
        "        )\n",
        "        self.e7 = nn.Sequential(\n",
        "            nn.LeakyReLU(0.2),\n",
        "            nn.Conv2d(cs*8, cs*8, 4, 2, 1),\n",
        "            # nn.BatchNorm2d(cs*8)\n",
        "        )\n",
        "\n",
        "    def forward(self, x):\n",
        "        d = dict()\n",
        "        x = self.e1(x)\n",
        "        d['e1'] = x\n",
        "        x = self.e2(x)\n",
        "        d['e2'] = x\n",
        "        x = self.e3(x)\n",
        "        d['e3'] = x\n",
        "        x = self.e4(x)\n",
        "        d['e4'] = x\n",
        "        x = self.e5(x)\n",
        "        d['e5'] = x\n",
        "        x = self.e6(x)\n",
        "        d['e6'] = x\n",
        "        x = self.e7(x)\n",
        "        d['e7'] = x\n",
        "        return x, d\n",
        "\n",
        "        \n",
        "class De(nn.Module):\n",
        "    def __init__(self):\n",
        "        super(De, self).__init__()\n",
        "        cs = 64\n",
        "\n",
        "        # 128 = style vector\n",
        "        self.d1 = nn.Sequential(\n",
        "            nn.LeakyReLU(0.2),\n",
        "            nn.ConvTranspose2d(cs*8+128, cs*8, 3, 1, 1), # e1이랑 합치기위해 유지\n",
        "            # nn.BatchNorm2d(cs*8),\n",
        "            nn.Dropout(0.5)\n",
        "        )\n",
        "        self.d2 = nn.Sequential(\n",
        "            nn.LeakyReLU(0.2),\n",
        "            nn.ConvTranspose2d(cs*16, cs*8, 4, 2, 1),\n",
        "            nn.BatchNorm2d(cs*8),\n",
        "            nn.Dropout(0.5),\n",
        "        )\n",
        "        self.d3 = nn.Sequential(\n",
        "            nn.LeakyReLU(0.2),\n",
        "            nn.ConvTranspose2d(cs*16, cs*8, 4, 2, 1),\n",
        "            nn.BatchNorm2d(cs*8),\n",
        "            nn.Dropout(0.5),\n",
        "        )\n",
        "        self.d4 = nn.Sequential(\n",
        "            nn.LeakyReLU(0.2),\n",
        "            nn.ConvTranspose2d(cs*16, cs*8, 4, 2, 1),\n",
        "            nn.BatchNorm2d(cs*8),\n",
        "        )\n",
        "        self.d5 = nn.Sequential(\n",
        "            nn.LeakyReLU(0.2),\n",
        "            nn.ConvTranspose2d(cs*16, cs*4, 4, 2, 1),\n",
        "            nn.BatchNorm2d(cs*4),\n",
        "        )\n",
        "        self.d6 = nn.Sequential(\n",
        "            nn.LeakyReLU(0.2),\n",
        "            nn.ConvTranspose2d(cs*8, cs*2, 4, 2, 1),\n",
        "            nn.BatchNorm2d(cs*2),\n",
        "        )\n",
        "        self.d7 = nn.Sequential(\n",
        "            nn.LeakyReLU(0.2),\n",
        "            nn.ConvTranspose2d(cs*4, cs, 4, 2, 1),\n",
        "            nn.BatchNorm2d(cs),\n",
        "        )\n",
        "        self.d8 = nn.Sequential(\n",
        "            nn.LeakyReLU(0.2),\n",
        "            nn.ConvTranspose2d(cs*2, 1, 4, 2, 1),\n",
        "        )  \n",
        "\n",
        "    def forward(self, x, e):\n",
        "        x = self.d1(x)\n",
        "        x = torch.cat((x, e['e7']), dim=1)\n",
        "        x = self.d2(x)\n",
        "        x = torch.cat((x, e['e6']), dim=1)\n",
        "        x = self.d3(x)\n",
        "        x = torch.cat((x, e['e5']), dim=1)\n",
        "        x = self.d4(x)\n",
        "        x = torch.cat((x, e['e4']), dim=1)\n",
        "        x = self.d5(x)\n",
        "        x = torch.cat((x, e['e3']), dim=1)\n",
        "        x = self.d6(x)\n",
        "        x = torch.cat((x, e['e2']), dim=1)\n",
        "        x = self.d7(x)\n",
        "        x = torch.cat((x, e['e1']), dim=1)\n",
        "        x = self.d8(x)\n",
        "\n",
        "        return x\n",
        "\n",
        "class Generator(nn.Module):\n",
        "    def __init__(self, En, De):\n",
        "        super(Generator, self).__init__()\n",
        "        self.En = En()\n",
        "        self.De = De()\n",
        "\n",
        "    def forward(self, x, vec):\n",
        "        x, d = self.En(x)\n",
        "\n",
        "        x = torch.cat((x, vec), dim=1)\n",
        "        print(x.shape)\n",
        "        x = self.De(x, d)\n",
        "        \n",
        "        return x"
      ],
      "execution_count": 124,
      "outputs": []
    },
    {
      "cell_type": "code",
      "metadata": {
        "colab": {
          "base_uri": "https://localhost:8080/"
        },
        "id": "B3BPxyRtvHed",
        "outputId": "3de53948-55aa-4743-ddaf-4b355bd40282"
      },
      "source": [
        "generator = Generator(En, De)\n",
        "x = torch.FloatTensor([source[0]]).reshape((-1,1,128,128)) / 255\n",
        "style_vector = torch.FloatTensor(np.random.normal(size=(1, 128, 1, 1)))\n",
        "\n",
        "generator(x, style_vector)"
      ],
      "execution_count": 125,
      "outputs": [
        {
          "output_type": "stream",
          "text": [
            "torch.Size([1, 640, 1, 1])\n",
            "torch.Size([1, 640, 1, 1])\n",
            "torch.Size([1, 512, 1, 1])\n",
            "torch.Size([1, 1024, 1, 1])\n",
            "torch.Size([1, 512, 2, 2])\n",
            "torch.Size([1, 1024, 2, 2])\n",
            "torch.Size([1, 512, 4, 4])\n",
            "torch.Size([1, 1024, 4, 4])\n",
            "torch.Size([1, 512, 8, 8])\n",
            "torch.Size([1, 1024, 8, 8])\n",
            "torch.Size([1, 256, 16, 16])\n",
            "torch.Size([1, 512, 16, 16])\n",
            "torch.Size([1, 128, 32, 32])\n"
          ],
          "name": "stdout"
        },
        {
          "output_type": "execute_result",
          "data": {
            "text/plain": [
              "tensor([[[[ 0.2877,  1.3804, -0.0285,  ...,  0.5893,  0.1707,  0.9383],\n",
              "          [-0.6125, -2.2226, -0.6708,  ...,  0.8264, -1.1004, -0.7646],\n",
              "          [-0.4222,  0.0293,  2.4696,  ...,  0.6781,  0.7411,  2.2657],\n",
              "          ...,\n",
              "          [-0.8157, -0.7448, -2.1004,  ...,  1.3501,  1.1647,  0.4522],\n",
              "          [ 0.0899,  0.1013,  1.0905,  ...,  0.7503,  0.1442,  0.5260],\n",
              "          [ 0.2984,  0.1080, -0.3932,  ..., -0.2924, -0.9519, -0.6284]]]],\n",
              "       grad_fn=<SlowConvTranspose2DBackward>)"
            ]
          },
          "metadata": {
            "tags": []
          },
          "execution_count": 125
        }
      ]
    },
    {
      "cell_type": "code",
      "metadata": {
        "id": "9vXGPsTjMd9w"
      },
      "source": [
        "x = torch.FloatTensor([[[[1,1,],[1,1]],[[1,1,],[1,1]],[[1,1,],[1,1]],[[1,1,],[1,1]]]])\n",
        "print(x.shape)\n",
        "model = nn.Conv2d(4,4,2,1,0)\n",
        "print(model(x).shape)"
      ],
      "execution_count": null,
      "outputs": []
    },
    {
      "cell_type": "code",
      "metadata": {
        "id": "C-jHCgEDt1YG"
      },
      "source": [
        "# 실험 1"
      ],
      "execution_count": null,
      "outputs": []
    },
    {
      "cell_type": "code",
      "metadata": {
        "id": "LTyTMe0z-2Kj"
      },
      "source": [
        ""
      ],
      "execution_count": null,
      "outputs": []
    }
  ]
}