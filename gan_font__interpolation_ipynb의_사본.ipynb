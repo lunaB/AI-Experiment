{
  "nbformat": 4,
  "nbformat_minor": 0,
  "metadata": {
    "colab": {
      "name": "gan_font_ interpolation.ipynb의 사본",
      "provenance": [],
      "collapsed_sections": [],
      "authorship_tag": "ABX9TyOYDvBt3JLwjhBbwYS5V97p",
      "include_colab_link": true
    },
    "kernelspec": {
      "name": "python3",
      "display_name": "Python 3"
    },
    "accelerator": "GPU"
  },
  "cells": [
    {
      "cell_type": "markdown",
      "metadata": {
        "id": "view-in-github",
        "colab_type": "text"
      },
      "source": [
        "<a href=\"https://colab.research.google.com/github/lunaB/AI-Experiment/blob/master/gan_font__interpolation_ipynb%EC%9D%98_%EC%82%AC%EB%B3%B8.ipynb\" target=\"_parent\"><img src=\"https://colab.research.google.com/assets/colab-badge.svg\" alt=\"Open In Colab\"/></a>"
      ]
    },
    {
      "cell_type": "markdown",
      "metadata": {
        "id": "Xw9-_FM91wZg"
      },
      "source": [
        "# REF\n",
        "- https://discuss.pytorch.org/t/error-expected-more-than-1-value-per-channel-when-training/26274\n",
        "- https://pytorch.org/docs/stable/generated/torch.nn.ConvTranspose2d.html\n",
        "- https://realblack0.github.io/2020/05/11/transpose-convolution.html\n",
        "- https://hyunlee103.tistory.com/63\n",
        "- https://pytorch.org/tutorials/beginner/dcgan_faces_tutorial.html\n",
        "- https://stackoverflow.com/questions/62133737/how-does-pytorchs-loss-backward-work-when-retain-graph-true-is-specified (detach)\n",
        "- https://discuss.pytorch.org/t/runtimeerror-trying-to-backward-through-the-graph-a-second-time-but-the-buffers-have-already-been-freed-specify-retain-graph-true-when-calling-backward-the-first-time/6795"
      ]
    },
    {
      "cell_type": "code",
      "metadata": {
        "id": "rD6J6DjRGdIf"
      },
      "source": [
        "from PIL import Image\n",
        "from PIL import ImageDraw\n",
        "from PIL import ImageFont\n",
        "import numpy as np\n",
        "\n",
        "import matplotlib.pyplot as plt\n",
        "import numpy as np\n",
        "import pickle\n",
        "\n",
        "\n",
        "# draw\n",
        "def draw_single_char(ch, font, canvas_size):\n",
        "    image = Image.new('L', (canvas_size, canvas_size), color=255)\n",
        "    drawing = ImageDraw.Draw(image)\n",
        "    w, h = drawing.textsize(ch, font=font)\n",
        "\n",
        "    drawing.text(\n",
        "        ((canvas_size-w)/2, (canvas_size-h)/2),\n",
        "        ch,\n",
        "        fill=(0),\n",
        "        font=font\n",
        "    )\n",
        "    flag = np.sum(np.array(image))\n",
        "    \n",
        "    # 해당 font에 글자 없을시\n",
        "    if flag == 255 * 128 * 128:\n",
        "        print('[warning] 폰트 없음 :', ch)\n",
        "        return None\n",
        "\n",
        "    if w>canvas_size or h>canvas_size:\n",
        "        print('[warning] 사이즈를 맞춰주세요')\n",
        "\n",
        "    return image\n",
        "\n",
        "# ttf to pickle\n",
        "def ttf_to_pkl(font_path, pkl_path, canvas_size=128, font_size=90):\n",
        "    font = ImageFont.truetype(font=font_path, size=font_size)\n",
        "    upper = \"A, B, C, D, E, F, G, H, I, J, K, L, M, N, O, P, Q, R, S, T, U, V, W, X, Y, Z\"\n",
        "    lower = \"a, b, c, d, e, f, g, h, i, j, k, l, m, n, o, p, q, r, s, t, u, v, w, x, y, z\"\n",
        "    # number = \"0, 1, 2, 3, 4, 5, 6, 7, 8, 9\"\n",
        "    \n",
        "    # text = (upper+', '+lower+', '+number).split(\", \")\n",
        "    text = (upper+', '+lower).split(\", \")\n",
        "\n",
        "    text_img = []\n",
        "\n",
        "    for i in text:\n",
        "        img = draw_single_char(i, font, canvas_size)\n",
        "        text_img.append(np.array(img))\n",
        "\n",
        "    with open(pkl_path, 'wb') as f:\n",
        "        pickle.dump(text_img, f)\n",
        "\n",
        "    # print(np.array(text_img).shape)\n",
        "    # plt.imshow(text_img[0], cmap='gray')\n",
        "    # plt.show()"
      ],
      "execution_count": 261,
      "outputs": []
    },
    {
      "cell_type": "code",
      "metadata": {
        "id": "1kxNeEDNfUoc"
      },
      "source": [
        "def load_pkl(pkl_path):\n",
        "    with open(pkl_path, 'rb') as f:\n",
        "        return pickle.load(f)"
      ],
      "execution_count": 262,
      "outputs": []
    },
    {
      "cell_type": "code",
      "metadata": {
        "id": "7B8bUod9vEfx"
      },
      "source": [
        "import torch\n",
        "import torch.nn as nn\n",
        "import torch.optim as optim\n",
        "\n",
        "def init_weights(m):\n",
        "    if type(m) == nn.Conv2d or type(m) == nn.ConvTranspose2d or type(m) == nn.Linear:\n",
        "        torch.nn.init.xavier_uniform_(m.weight)\n",
        "        # m.bias.data.fill_(0.01)\n",
        "\n",
        "class Encoder(nn.Module):\n",
        "    def __init__(self):\n",
        "        super(Encoder, self).__init__()\n",
        "        cs = 64\n",
        "\n",
        "        # in, out, k, s, p, d\n",
        "        self.e1 = nn.Sequential(\n",
        "            nn.Conv2d(1, cs, 4, 2, 1)\n",
        "        )\n",
        "        self.e2 = nn.Sequential(\n",
        "            nn.LeakyReLU(0.2),\n",
        "            nn.Conv2d(cs, cs*2, 4, 2, 1),\n",
        "            nn.BatchNorm2d(cs*2),\n",
        "        )\n",
        "        self.e3 = nn.Sequential(\n",
        "            nn.LeakyReLU(0.2),\n",
        "            nn.Conv2d(cs*2, cs*4, 4, 2, 1),\n",
        "            nn.BatchNorm2d(cs*4),\n",
        "        )\n",
        "        self.e4 = nn.Sequential(\n",
        "            nn.LeakyReLU(0.2),\n",
        "            nn.Conv2d(cs*4, cs*8, 4, 2, 1),\n",
        "            nn.BatchNorm2d(cs*8),\n",
        "        )\n",
        "        self.e5 = nn.Sequential(\n",
        "            nn.LeakyReLU(0.2),\n",
        "            nn.Conv2d(cs*8, cs*8, 4, 2, 1),\n",
        "            nn.BatchNorm2d(cs*8),\n",
        "        )\n",
        "        self.e6 = nn.Sequential(\n",
        "            nn.LeakyReLU(0.2),\n",
        "            nn.Conv2d(cs*8, cs*8, 4, 2, 1),\n",
        "            nn.BatchNorm2d(cs*8)\n",
        "        )\n",
        "        self.e7 = nn.Sequential(\n",
        "            nn.LeakyReLU(0.2),\n",
        "            nn.Conv2d(cs*8, cs*8, 4, 2, 1),\n",
        "            # nn.BatchNorm2d(cs*8)\n",
        "        )\n",
        "\n",
        "        self.e1.apply(init_weights)\n",
        "        self.e2.apply(init_weights)\n",
        "        self.e3.apply(init_weights)\n",
        "        self.e4.apply(init_weights)\n",
        "        self.e5.apply(init_weights)\n",
        "        self.e6.apply(init_weights)\n",
        "        self.e7.apply(init_weights)\n",
        "\n",
        "    def forward(self, x):\n",
        "        d = dict()\n",
        "        x = self.e1(x)\n",
        "        d['e1'] = x\n",
        "        x = self.e2(x)\n",
        "        d['e2'] = x\n",
        "        x = self.e3(x)\n",
        "        d['e3'] = x\n",
        "        x = self.e4(x)\n",
        "        d['e4'] = x\n",
        "        x = self.e5(x)\n",
        "        d['e5'] = x\n",
        "        x = self.e6(x)\n",
        "        d['e6'] = x\n",
        "        x = self.e7(x)\n",
        "        d['e7'] = x\n",
        "        return x, d\n",
        "\n",
        "        \n",
        "class Decoder(nn.Module):\n",
        "    def __init__(self):\n",
        "        super(Decoder, self).__init__()\n",
        "        cs = 64\n",
        "\n",
        "        # 128 = style vector\n",
        "        self.d1 = nn.Sequential(\n",
        "            nn.LeakyReLU(0.2),\n",
        "            nn.ConvTranspose2d(cs*8+128, cs*8, 3, 1, 1), # e1이랑 합치기위해 유지\n",
        "            # nn.BatchNorm2d(cs*8),\n",
        "            nn.Dropout(0.5)\n",
        "        )\n",
        "        self.d2 = nn.Sequential(\n",
        "            nn.LeakyReLU(0.2),\n",
        "            nn.ConvTranspose2d(cs*16, cs*8, 4, 2, 1),\n",
        "            nn.BatchNorm2d(cs*8),\n",
        "            nn.Dropout(0.5),\n",
        "        )\n",
        "        self.d3 = nn.Sequential(\n",
        "            nn.LeakyReLU(0.2),\n",
        "            nn.ConvTranspose2d(cs*16, cs*8, 4, 2, 1),\n",
        "            nn.BatchNorm2d(cs*8),\n",
        "            nn.Dropout(0.5),\n",
        "        )\n",
        "        self.d4 = nn.Sequential(\n",
        "            nn.LeakyReLU(0.2),\n",
        "            nn.ConvTranspose2d(cs*16, cs*8, 4, 2, 1),\n",
        "            nn.BatchNorm2d(cs*8),\n",
        "        )\n",
        "        self.d5 = nn.Sequential(\n",
        "            nn.LeakyReLU(0.2),\n",
        "            nn.ConvTranspose2d(cs*16, cs*4, 4, 2, 1),\n",
        "            nn.BatchNorm2d(cs*4),\n",
        "        )\n",
        "        self.d6 = nn.Sequential(\n",
        "            nn.LeakyReLU(0.2),\n",
        "            nn.ConvTranspose2d(cs*8, cs*2, 4, 2, 1),\n",
        "            nn.BatchNorm2d(cs*2),\n",
        "        )\n",
        "        self.d7 = nn.Sequential(\n",
        "            nn.LeakyReLU(0.2),\n",
        "            nn.ConvTranspose2d(cs*4, cs, 4, 2, 1),\n",
        "            nn.BatchNorm2d(cs),\n",
        "        )\n",
        "        self.d8 = nn.Sequential(\n",
        "            nn.LeakyReLU(0.2),\n",
        "            nn.ConvTranspose2d(cs*2, 1, 4, 2, 1),\n",
        "            # nn.BatchNorm2d(cs),\n",
        "        )\n",
        "\n",
        "        self.d1.apply(init_weights)\n",
        "        self.d2.apply(init_weights)\n",
        "        self.d3.apply(init_weights)\n",
        "        self.d4.apply(init_weights)\n",
        "        self.d5.apply(init_weights)\n",
        "        self.d6.apply(init_weights)\n",
        "        self.d7.apply(init_weights)\n",
        "        self.d8.apply(init_weights)\n",
        "\n",
        "    def forward(self, x, e):\n",
        "        x = self.d1(x)\n",
        "        x = torch.cat((x, e['e7']), dim=1)\n",
        "        x = self.d2(x)\n",
        "        x = torch.cat((x, e['e6']), dim=1)\n",
        "        x = self.d3(x)\n",
        "        x = torch.cat((x, e['e5']), dim=1)\n",
        "        x = self.d4(x)\n",
        "        x = torch.cat((x, e['e4']), dim=1)\n",
        "        x = self.d5(x)\n",
        "        x = torch.cat((x, e['e3']), dim=1)\n",
        "        x = self.d6(x)\n",
        "        x = torch.cat((x, e['e2']), dim=1)\n",
        "        x = self.d7(x)\n",
        "        x = torch.cat((x, e['e1']), dim=1)\n",
        "        x = self.d8(x)\n",
        "        x = torch.tanh(x)\n",
        "        return x\n",
        "\n",
        "class Generator(nn.Module):\n",
        "    def __init__(self, En, De):\n",
        "        super(Generator, self).__init__()\n",
        "        self.En = En()\n",
        "        self.De = De()\n",
        "\n",
        "    def forward(self, x, vec):\n",
        "        x, d = self.En(x)\n",
        "        x = torch.cat((x, vec), dim=1)\n",
        "        x = self.De(x, d)\n",
        "        return x\n",
        "\n",
        "class Discriminator(nn.Module):\n",
        "    def __init__(self, category_num):\n",
        "        super(Discriminator, self).__init__()\n",
        "        cs = 64\n",
        "\n",
        "        self.category_num = category_num\n",
        "\n",
        "        self.d1 = nn.Sequential(\n",
        "            # nn.LeakyReLU(0.2),\n",
        "            nn.Conv2d(1, cs, 4, 2, 1)\n",
        "        )\n",
        "        self.d2 = nn.Sequential(\n",
        "            nn.LeakyReLU(0.2),\n",
        "            nn.Conv2d(cs, cs*2, 4, 2, 1),\n",
        "            nn.BatchNorm2d(cs*2),\n",
        "        )\n",
        "        self.d3 = nn.Sequential(\n",
        "            nn.LeakyReLU(0.2),\n",
        "            nn.Conv2d(cs*2, cs*4, 4, 2, 1),\n",
        "            nn.BatchNorm2d(cs*4),\n",
        "        )\n",
        "        self.d4 = nn.Sequential(\n",
        "            nn.LeakyReLU(0.2),\n",
        "            nn.Conv2d(cs*4, cs*8, 4, 2, 1),\n",
        "            nn.BatchNorm2d(cs*8),\n",
        "        )\n",
        "        self.fc_tf = nn.Sequential(\n",
        "            nn.Flatten(),\n",
        "            nn.Linear(cs*8*8*8, 1),\n",
        "        )\n",
        "        self.fc_cg = nn.Sequential(\n",
        "            nn.Flatten(),\n",
        "            nn.Linear(cs*8*8*8, category_num),\n",
        "        )\n",
        "\n",
        "        self.d1.apply(init_weights)\n",
        "        self.d2.apply(init_weights)\n",
        "        self.d3.apply(init_weights)\n",
        "        self.d4.apply(init_weights)\n",
        "        self.fc_tf.apply(init_weights)\n",
        "        self.fc_cg.apply(init_weights)\n",
        "\n",
        "    def forward(self, x):\n",
        "        x = self.d1(x)\n",
        "        x = self.d2(x)\n",
        "        x = self.d3(x)\n",
        "        x = self.d4(x)\n",
        "\n",
        "        tf = self.fc_tf(x)\n",
        "        cg = self.fc_cg(x)\n",
        "\n",
        "        return tf, cg"
      ],
      "execution_count": 306,
      "outputs": []
    },
    {
      "cell_type": "code",
      "metadata": {
        "colab": {
          "base_uri": "https://localhost:8080/"
        },
        "id": "FR1jkb-QP7J0",
        "outputId": "2fc0a6fb-82b0-414b-d25d-1b85446b0b61"
      },
      "source": [
        "ttf_to_pkl('NanumGothic-Regular.ttf', 'NanumGothic-Regular.pkl')\n",
        "source = load_pkl('NanumGothic-Regular.pkl')\n",
        "source = np.array(source)\n",
        "\n",
        "ttf_to_pkl('Langar-Regular.ttf', 'Langar-Regular.pkl')\n",
        "ttf_to_pkl('Audiowide-Regular.ttf', 'Audiowide-Regular.pkl')\n",
        "t1 = load_pkl('Langar-Regular.pkl')\n",
        "t2 = load_pkl('Audiowide-Regular.pkl')\n",
        "target = np.array([t1, t2])\n",
        "print(source.shape, target.shape)"
      ],
      "execution_count": 307,
      "outputs": [
        {
          "output_type": "stream",
          "text": [
            "(52, 128, 128) (2, 52, 128, 128)\n"
          ],
          "name": "stdout"
        }
      ]
    },
    {
      "cell_type": "markdown",
      "metadata": {
        "id": "gq21zPKSX8Lb"
      },
      "source": [
        "# 데이터 전처리\n"
      ]
    },
    {
      "cell_type": "code",
      "metadata": {
        "colab": {
          "base_uri": "https://localhost:8080/"
        },
        "id": "Au1XlYFdX6n7",
        "outputId": "0b79ae5b-f07b-479e-b0fe-90ecb9dc6fc6"
      },
      "source": [
        "from torch.utils.data import DataLoader, TensorDataset\n",
        "\n",
        "source_tensor = torch.FloatTensor(source) / 255\n",
        "target_tensor = torch.FloatTensor([t1, t2]) / 255\n",
        "print(source_tensor.shape, target_tensor.shape)\n",
        "\n",
        "cg_num = target_tensor.shape[0]\n",
        "font_num = target_tensor.shape[1]\n",
        "\n",
        "x_data = torch.FloatTensor(source_tensor).repeat(2, 1, 1).reshape((cg_num * font_num, 1, 128, 128))\n",
        "t_data = torch.FloatTensor(target_tensor).reshape((cg_num * font_num, 1, 128, 128))\n",
        "t_meta = torch.LongTensor([[i, j] for j in range(font_num) for i in range(cg_num)]) # [cg, font]\n",
        "c_vec = np.random.normal(size=(cg_num, 128, 1, 1))\n",
        "\n",
        "c_vec_t = torch.FloatTensor([c_vec[i] for _ in range(font_num) for i in range(cg_num)])\n",
        "\n",
        "x_data = x_data.cuda()\n",
        "t_data = t_data.cuda()\n",
        "x_meta = x_meta\n",
        "c_vec_t = c_vec_t.cuda()\n",
        "\n",
        "print(x_data.shape)\n",
        "print(x_meta.shape)\n",
        "print(c_vec.shape)\n",
        "print(c_vec_t.shape)"
      ],
      "execution_count": 308,
      "outputs": [
        {
          "output_type": "stream",
          "text": [
            "torch.Size([52, 128, 128]) torch.Size([2, 52, 128, 128])\n",
            "torch.Size([104, 1, 128, 128])\n",
            "torch.Size([104, 2])\n",
            "(2, 128, 1, 1)\n",
            "torch.Size([104, 128, 1, 1])\n"
          ],
          "name": "stdout"
        }
      ]
    },
    {
      "cell_type": "markdown",
      "metadata": {
        "id": "lfZZdEM8YCOw"
      },
      "source": [
        "# 학습"
      ]
    },
    {
      "cell_type": "code",
      "metadata": {
        "colab": {
          "base_uri": "https://localhost:8080/",
          "height": 1000
        },
        "id": "ixPFol2lX8bj",
        "outputId": "843eb5b1-153c-4bc0-9994-bc3ba9f7b72a"
      },
      "source": [
        "epochs = 150\n",
        "batch_size = 30\n",
        "\n",
        "ds = TensorDataset(x_data, t_data, t_meta, c_vec_t)\n",
        "loader = DataLoader(ds, batch_size=batch_size, shuffle=True)\n",
        "\n",
        "encoder = Encoder().cuda()\n",
        "decoder = Decoder().cuda()\n",
        "discriminator = Discriminator(category_num=cg_num).cuda()\n",
        "\n",
        "encoder.train()\n",
        "decoder.train()\n",
        "discriminator.train()\n",
        "\n",
        "l1_criterion = nn.L1Loss().cuda()\n",
        "bce_criterion = nn.BCEWithLogitsLoss().cuda()\n",
        "ce_criterion = nn.CrossEntropyLoss().cuda()\n",
        "mse_criterion = nn.MSELoss().cuda()\n",
        "\n",
        "g_optimizer = optim.Adam(list(encoder.parameters())+list(decoder.parameters()), lr=0.001)\n",
        "d_optimizer = optim.Adam(discriminator.parameters(), lr=0.001)\n",
        "\n",
        "L1_W = 500\n",
        "MSE_W = 1000\n",
        "\n",
        "\n",
        "print('batch_size: %d, category_num: %d, font_num: %d'%(batch_size, cg_num, font_num))\n",
        "\n",
        "log = []\n",
        "\n",
        "for epoch in range(epochs):\n",
        "    \n",
        "    encoder.train()\n",
        "    decoder.train()\n",
        "\n",
        "    d_total_loss = []\n",
        "    g_total_loss = []\n",
        "\n",
        "\n",
        "    l1_loss_arr = []\n",
        "    ff_bce_loss_arr = []\n",
        "    bce_loss_arr = []\n",
        "    ce_loss_arr = []\n",
        "    z_loss_arr = []\n",
        "\n",
        "    for x, t, tm, c in loader:\n",
        "        # print(x.shape, xm.shape, c.shape)\n",
        "\n",
        "        cg = tm.T[0]\n",
        "        font = tm.T[0]\n",
        "\n",
        "        z, e_net = encoder(x)\n",
        "        d_in = torch.cat((z, c), dim=1)\n",
        "        d_out = decoder(d_in, e_net)\n",
        "        # print(z.shape, d_in.shape, d_out.shape)\n",
        "\n",
        "        real_tf, real_cg = discriminator(t)\n",
        "        fake_tf, fake_cg = discriminator(d_out)\n",
        "\n",
        "        # 정답 텐서\n",
        "        one_tensor = torch.ones(x.shape[0], 1).cuda()\n",
        "        zero_tensor = torch.ones(x.shape[0], 1).cuda()\n",
        "\n",
        "        # [dis] 가짜 검출 로스\n",
        "        r_bce_loss = bce_criterion(real_tf, one_tensor)\n",
        "        f_bce_loss = bce_criterion(fake_tf, zero_tensor)\n",
        "        bce_loss = r_bce_loss + f_bce_loss\n",
        "        \n",
        "        # [dis] 카테고리 예측 로스\n",
        "        category = torch.FloatTensor(np.array(np.eye(cg_num)[cg])).cuda() \n",
        "        r_ce_loss = bce_criterion(real_cg, category)\n",
        "        f_ce_loss = bce_criterion(fake_cg, category) # 카테고리 예측 로스\n",
        "        ce_loss = 0.5*(r_ce_loss + f_ce_loss)\n",
        "\n",
        "        # [gen.en] z vector 유사도 로스\n",
        "        t_z = encoder(t)[0]\n",
        "        z_loss = mse_criterion(z, t_z)\n",
        "\n",
        "        # [gen] 타겟 유사도 로스\n",
        "        l1_loss = l1_criterion(d_out, t)\n",
        "\n",
        "        # [gen] 변조 성공 로스\n",
        "        ff_bce_loss = bce_criterion(fake_tf, one_tensor)\n",
        "\n",
        "        # loss grad\n",
        "        g_loss = (L1_W * l1_loss) + ff_bce_loss + (MSE_W * z_loss) + f_ce_loss\n",
        "        d_loss = bce_loss + ce_loss\n",
        "\n",
        "        # generator\n",
        "        encoder.zero_grad()\n",
        "        decoder.zero_grad()\n",
        "        g_loss.backward(retain_graph=True)\n",
        "\n",
        "        # discriminator\n",
        "        discriminator.zero_grad()\n",
        "        d_loss.backward(retain_graph=True)\n",
        "\n",
        "        g_optimizer.step()\n",
        "        d_optimizer.step()\n",
        "\n",
        "        # log\n",
        "        d_total_loss.append(d_loss.item())\n",
        "        g_total_loss.append(g_loss.item())\n",
        "\n",
        "        l1_loss_arr.append(l1_loss.item())\n",
        "        ff_bce_loss_arr.append(f_tf_bce_loss.item())\n",
        "        bce_loss_arr.append(bce_loss.item())\n",
        "        ce_loss_arr.append(ce_loss.item())\n",
        "        z_loss_arr.append(z_loss.item())\n",
        "    log.append([d_total_loss, g_total_loss, l1_loss_arr, ff_bce_loss_arr, bce_loss_arr, ce_loss_arr, z_loss_arr])\n",
        "\n",
        "    print('epoch: %d/%d\\tg_loss: %f\\td_loss: %f'%(epoch+1, epochs, sum(g_total_loss), sum(d_total_loss)))\n",
        "    if (epoch+1) % 10 == 0:\n",
        "        gprint(0, 0, 1)"
      ],
      "execution_count": null,
      "outputs": [
        {
          "output_type": "stream",
          "text": [
            "batch_size: 30, category_num: 2, font_num: 52\n",
            "epoch: 1/150\tg_loss: 1893.681549\td_loss: 20.180674\n",
            "epoch: 2/150\tg_loss: 888.435242\td_loss: 8.175464\n",
            "epoch: 3/150\tg_loss: 512.176132\td_loss: 8.295233\n",
            "epoch: 4/150\tg_loss: 330.975449\td_loss: 5.033802\n",
            "epoch: 5/150\tg_loss: 246.427971\td_loss: 2.694045\n",
            "epoch: 6/150\tg_loss: 207.543602\td_loss: 2.254582\n",
            "epoch: 7/150\tg_loss: 195.239006\td_loss: 2.619855\n",
            "epoch: 8/150\tg_loss: 182.561474\td_loss: 2.040666\n",
            "epoch: 9/150\tg_loss: 183.691631\td_loss: 2.114625\n",
            "epoch: 10/150\tg_loss: 180.517662\td_loss: 1.471768\n",
            "유사도 tensor(1.)\n"
          ],
          "name": "stdout"
        },
        {
          "output_type": "display_data",
          "data": {
            "image/png": "[encoded data removed]",
            "text/plain": [
              "<Figure size 432x288 with 2 Axes>"
            ]
          },
          "metadata": {
            "tags": [],
            "needs_background": "light"
          }
        },
        {
          "output_type": "stream",
          "text": [
            "epoch: 11/150\tg_loss: 179.180351\td_loss: 1.557725\n",
            "epoch: 12/150\tg_loss: 175.305584\td_loss: 1.587676\n",
            "epoch: 13/150\tg_loss: 172.119587\td_loss: 1.196494\n",
            "epoch: 14/150\tg_loss: 170.396076\td_loss: 1.093655\n",
            "epoch: 15/150\tg_loss: 166.253407\td_loss: 1.059018\n",
            "epoch: 16/150\tg_loss: 167.236591\td_loss: 1.173937\n",
            "epoch: 17/150\tg_loss: 166.440830\td_loss: 1.460353\n",
            "epoch: 18/150\tg_loss: 164.135262\td_loss: 1.375016\n",
            "epoch: 19/150\tg_loss: 165.959782\td_loss: 1.073760\n",
            "epoch: 20/150\tg_loss: 159.375507\td_loss: 0.981766\n",
            "유사도 tensor(0.9965)\n"
          ],
          "name": "stdout"
        },
        {
          "output_type": "display_data",
          "data": {
            "image/png": "[encoded data removed]",
            "text/plain": [
              "<Figure size 432x288 with 2 Axes>"
            ]
          },
          "metadata": {
            "tags": [],
            "needs_background": "light"
          }
        },
        {
          "output_type": "stream",
          "text": [
            "epoch: 21/150\tg_loss: 162.699348\td_loss: 1.105045\n",
            "epoch: 22/150\tg_loss: 158.720852\td_loss: 0.635579\n",
            "epoch: 23/150\tg_loss: 160.367413\td_loss: 0.497705\n",
            "epoch: 24/150\tg_loss: 161.738411\td_loss: 0.394590\n",
            "epoch: 25/150\tg_loss: 159.329197\td_loss: 0.388167\n",
            "epoch: 26/150\tg_loss: 159.718830\td_loss: 0.244759\n",
            "epoch: 27/150\tg_loss: 160.198757\td_loss: 0.220792\n",
            "epoch: 28/150\tg_loss: 154.472794\td_loss: 0.113565\n",
            "epoch: 29/150\tg_loss: 155.646172\td_loss: 0.160429\n",
            "epoch: 30/150\tg_loss: 159.585732\td_loss: 0.653146\n",
            "유사도 tensor(0.9964)\n"
          ],
          "name": "stdout"
        },
        {
          "output_type": "display_data",
          "data": {
            "image/png": "[encoded data removed]",
            "text/plain": [
              "<Figure size 432x288 with 2 Axes>"
            ]
          },
          "metadata": {
            "tags": [],
            "needs_background": "light"
          }
        },
        {
          "output_type": "stream",
          "text": [
            "epoch: 31/150\tg_loss: 157.695133\td_loss: 0.855295\n",
            "epoch: 32/150\tg_loss: 156.749199\td_loss: 0.410842\n",
            "epoch: 33/150\tg_loss: 160.965809\td_loss: 0.356431\n",
            "epoch: 34/150\tg_loss: 156.978409\td_loss: 0.218131\n",
            "epoch: 35/150\tg_loss: 155.119991\td_loss: 0.218488\n",
            "epoch: 36/150\tg_loss: 151.806499\td_loss: 0.159705\n",
            "epoch: 37/150\tg_loss: 152.893761\td_loss: 0.095863\n",
            "epoch: 38/150\tg_loss: 151.649204\td_loss: 0.093770\n",
            "epoch: 39/150\tg_loss: 148.611599\td_loss: 0.033205\n",
            "epoch: 40/150\tg_loss: 149.302620\td_loss: 0.039234\n",
            "유사도 tensor(0.9968)\n"
          ],
          "name": "stdout"
        },
        {
          "output_type": "display_data",
          "data": {
            "image/png": "[encoded data removed]",
            "text/plain": [
              "<Figure size 432x288 with 2 Axes>"
            ]
          },
          "metadata": {
            "tags": [],
            "needs_background": "light"
          }
        },
        {
          "output_type": "stream",
          "text": [
            "epoch: 41/150\tg_loss: 149.565895\td_loss: 0.019590\n",
            "epoch: 42/150\tg_loss: 150.862843\td_loss: 0.021322\n",
            "epoch: 43/150\tg_loss: 151.714336\td_loss: 0.028007\n",
            "epoch: 44/150\tg_loss: 149.617821\td_loss: 0.021479\n",
            "epoch: 45/150\tg_loss: 146.892956\td_loss: 0.015662\n",
            "epoch: 46/150\tg_loss: 148.821083\td_loss: 0.028644\n",
            "epoch: 47/150\tg_loss: 148.783443\td_loss: 0.012573\n",
            "epoch: 48/150\tg_loss: 146.973347\td_loss: 0.015696\n",
            "epoch: 49/150\tg_loss: 148.071716\td_loss: 0.015576\n",
            "epoch: 50/150\tg_loss: 146.613224\td_loss: 0.011599\n",
            "유사도 tensor(0.9898)\n"
          ],
          "name": "stdout"
        },
        {
          "output_type": "display_data",
          "data": {
            "image/png": "[encoded data removed]",
            "text/plain": [
              "<Figure size 432x288 with 2 Axes>"
            ]
          },
          "metadata": {
            "tags": [],
            "needs_background": "light"
          }
        },
        {
          "output_type": "stream",
          "text": [
            "epoch: 51/150\tg_loss: 149.499249\td_loss: 0.007226\n",
            "epoch: 52/150\tg_loss: 147.039780\td_loss: 0.010331\n",
            "epoch: 53/150\tg_loss: 144.718128\td_loss: 0.010528\n",
            "epoch: 54/150\tg_loss: 144.565891\td_loss: 0.021441\n",
            "epoch: 55/150\tg_loss: 144.850449\td_loss: 0.012203\n",
            "epoch: 56/150\tg_loss: 142.982670\td_loss: 0.016108\n",
            "epoch: 57/150\tg_loss: 143.252846\td_loss: 0.008034\n",
            "epoch: 58/150\tg_loss: 147.163532\td_loss: 0.011209\n",
            "epoch: 59/150\tg_loss: 148.124329\td_loss: 0.010016\n",
            "epoch: 60/150\tg_loss: 143.843998\td_loss: 0.086266\n",
            "유사도 tensor(0.9969)\n"
          ],
          "name": "stdout"
        },
        {
          "output_type": "display_data",
          "data": {
            "image/png": "[encoded data removed]",
            "text/plain": [
              "<Figure size 432x288 with 2 Axes>"
            ]
          },
          "metadata": {
            "tags": [],
            "needs_background": "light"
          }
        },
        {
          "output_type": "stream",
          "text": [
            "epoch: 61/150\tg_loss: 149.210976\td_loss: 0.062126\n",
            "epoch: 62/150\tg_loss: 146.791824\td_loss: 0.041717\n",
            "epoch: 63/150\tg_loss: 146.908497\td_loss: 0.020109\n",
            "epoch: 64/150\tg_loss: 146.316547\td_loss: 0.018730\n",
            "epoch: 65/150\tg_loss: 145.600170\td_loss: 0.010492\n",
            "epoch: 66/150\tg_loss: 143.645882\td_loss: 0.008656\n",
            "epoch: 67/150\tg_loss: 145.755539\td_loss: 0.009267\n",
            "epoch: 68/150\tg_loss: 143.445366\td_loss: 0.013631\n",
            "epoch: 69/150\tg_loss: 144.116253\td_loss: 0.047269\n",
            "epoch: 70/150\tg_loss: 142.035179\td_loss: 0.025884\n",
            "유사도 tensor(0.9991)\n"
          ],
          "name": "stdout"
        },
        {
          "output_type": "display_data",
          "data": {
            "image/png": "[encoded data removed]",
            "text/plain": [
              "<Figure size 432x288 with 2 Axes>"
            ]
          },
          "metadata": {
            "tags": [],
            "needs_background": "light"
          }
        },
        {
          "output_type": "stream",
          "text": [
            "epoch: 71/150\tg_loss: 143.591991\td_loss: 0.027814\n",
            "epoch: 72/150\tg_loss: 140.076000\td_loss: 0.009618\n",
            "epoch: 73/150\tg_loss: 140.339687\td_loss: 0.006412\n",
            "epoch: 74/150\tg_loss: 141.181492\td_loss: 0.004019\n",
            "epoch: 75/150\tg_loss: 141.199680\td_loss: 0.004262\n",
            "epoch: 76/150\tg_loss: 145.135933\td_loss: 0.004628\n",
            "epoch: 77/150\tg_loss: 149.846119\td_loss: 0.002240\n",
            "epoch: 78/150\tg_loss: 141.490711\td_loss: 0.005543\n",
            "epoch: 79/150\tg_loss: 142.030087\td_loss: 0.002598\n",
            "epoch: 80/150\tg_loss: 145.241283\td_loss: 0.004235\n",
            "유사도 tensor(0.9991)\n"
          ],
          "name": "stdout"
        },
        {
          "output_type": "display_data",
          "data": {
            "image/png": "[encoded data removed]",
            "text/plain": [
              "<Figure size 432x288 with 2 Axes>"
            ]
          },
          "metadata": {
            "tags": [],
            "needs_background": "light"
          }
        },
        {
          "output_type": "stream",
          "text": [
            "epoch: 81/150\tg_loss: 144.357433\td_loss: 0.002534\n",
            "epoch: 82/150\tg_loss: 144.809227\td_loss: 0.002848\n",
            "epoch: 83/150\tg_loss: 142.130119\td_loss: 0.019634\n",
            "epoch: 84/150\tg_loss: 142.539726\td_loss: 0.143031\n",
            "epoch: 85/150\tg_loss: 144.305943\td_loss: 0.065280\n",
            "epoch: 86/150\tg_loss: 141.038204\td_loss: 0.014871\n",
            "epoch: 87/150\tg_loss: 142.771610\td_loss: 0.004694\n",
            "epoch: 88/150\tg_loss: 142.126621\td_loss: 0.006933\n",
            "epoch: 89/150\tg_loss: 143.368771\td_loss: 0.008222\n",
            "epoch: 90/150\tg_loss: 141.936367\td_loss: 0.005272\n",
            "유사도 tensor(1.)\n"
          ],
          "name": "stdout"
        },
        {
          "output_type": "display_data",
          "data": {
            "image/png": "[encoded data removed]",
            "text/plain": [
              "<Figure size 432x288 with 2 Axes>"
            ]
          },
          "metadata": {
            "tags": [],
            "needs_background": "light"
          }
        }
      ]
    },
    {
      "cell_type": "code",
      "metadata": {
        "colab": {
          "base_uri": "https://localhost:8080/",
          "height": 1000
        },
        "id": "kV4JnIOhtqvf",
        "outputId": "eff591e6-ca60-42e2-ef7f-1b083ab7c7fe"
      },
      "source": [
        "log = np.array(log)\n",
        "n = ['d_loss','g_loss','l1', 'ff', 'bec', 'ce', 'z']\n",
        "plt.tight_layout()\n",
        "for i in range(len(n)):\n",
        "    x = np.linspace(0, 50, 50)\n",
        "    plt.title(n[i])\n",
        "    y1 = log.T[i].max(0)\n",
        "    y2 = log.T[i].min(0)\n",
        "    plt.fill_between(x, y1, y2, where=(y1 > y2), alpha=0.2)\n",
        "    plt.plot(log.T[i].mean(0))\n",
        "    plt.show()"
      ],
      "execution_count": 301,
      "outputs": [
        {
          "output_type": "display_data",
          "data": {
            "image/png": "[encoded data removed]",
            "text/plain": [
              "<Figure size 432x288 with 1 Axes>"
            ]
          },
          "metadata": {
            "tags": [],
            "needs_background": "light"
          }
        },
        {
          "output_type": "display_data",
          "data": {
            "image/png": "[encoded data removed]",
            "text/plain": [
              "<Figure size 432x288 with 1 Axes>"
            ]
          },
          "metadata": {
            "tags": [],
            "needs_background": "light"
          }
        },
        {
          "output_type": "display_data",
          "data": {
            "image/png": "[encoded data removed]",
            "text/plain": [
              "<Figure size 432x288 with 1 Axes>"
            ]
          },
          "metadata": {
            "tags": [],
            "needs_background": "light"
          }
        },
        {
          "output_type": "display_data",
          "data": {
            "image/png": "[encoded data removed]",
            "text/plain": [
              "<Figure size 432x288 with 1 Axes>"
            ]
          },
          "metadata": {
            "tags": [],
            "needs_background": "light"
          }
        },
        {
          "output_type": "display_data",
          "data": {
            "image/png": "[encoded data removed]",
            "text/plain": [
              "<Figure size 432x288 with 1 Axes>"
            ]
          },
          "metadata": {
            "tags": [],
            "needs_background": "light"
          }
        },
        {
          "output_type": "display_data",
          "data": {
            "image/png": "[encoded data removed]",
            "text/plain": [
              "<Figure size 432x288 with 1 Axes>"
            ]
          },
          "metadata": {
            "tags": [],
            "needs_background": "light"
          }
        },
        {
          "output_type": "display_data",
          "data": {
            "image/png": "[encoded data removed]",
            "text/plain": [
              "<Figure size 432x288 with 1 Axes>"
            ]
          },
          "metadata": {
            "tags": [],
            "needs_background": "light"
          }
        }
      ]
    },
    {
      "cell_type": "code",
      "metadata": {
        "colab": {
          "base_uri": "https://localhost:8080/",
          "height": 167
        },
        "id": "suvLzufzTF7j",
        "outputId": "8400c467-6715-47cf-e04c-488a31a78e63"
      },
      "source": [
        "def generate(ch, style):\n",
        "    encoder.eval()\n",
        "    decoder.eval()\n",
        "    x = torch.FloatTensor(source[ch]).reshape((1, 1, 128, 128)).cuda()\n",
        "    c = torch.FloatTensor(c_vec[style]).reshape((1, 128, 1, 1)).cuda()\n",
        "    # print(c.shape)\n",
        "    z, e_net = encoder(x)\n",
        "    d_in = torch.cat((z, c), dim=1)\n",
        "    d_out = decoder(d_in, e_net).detach()\n",
        "    # print(d_out.shape)\n",
        "    # print(d_out)\n",
        "    image = d_out.cpu()\n",
        "\n",
        "    return image\n",
        "\n",
        "def gprint(ch, s1, s2):\n",
        "    g1 = generate(ch, s1)\n",
        "    g2 = generate(ch, s2)\n",
        "    print('유사도', (g1 == g2).float().mean())\n",
        "    plt.subplot(221)\n",
        "    plt.imshow(g1.numpy()[0, 0], cmap='gray')\n",
        "    plt.subplot(222)\n",
        "    plt.imshow(g2.numpy()[0, 0], cmap='gray')\n",
        "    plt.show()\n",
        "\n",
        "gprint(0, 0, 1)"
      ],
      "execution_count": 106,
      "outputs": [
        {
          "output_type": "stream",
          "text": [
            "유사도 tensor(0.9950)\n"
          ],
          "name": "stdout"
        },
        {
          "output_type": "display_data",
          "data": {
            "image/png": "[encoded data removed]",
            "text/plain": [
              "<Figure size 432x288 with 2 Axes>"
            ]
          },
          "metadata": {
            "tags": [],
            "needs_background": "light"
          }
        }
      ]
    },
    {
      "cell_type": "code",
      "metadata": {
        "colab": {
          "base_uri": "https://localhost:8080/",
          "height": 770
        },
        "id": "9yb2to4Tb_X3",
        "outputId": "efdbf378-5953-47a0-af28-05a6002f94d6"
      },
      "source": [
        "# t\n",
        "plt.imshow(target[0, 0], cmap='gray')\n",
        "plt.show()\n",
        "plt.imshow(target[1, 0], cmap='gray')\n",
        "plt.show()\n",
        "plt.imshow(source[0], cmap='gray')\n",
        "plt.show()"
      ],
      "execution_count": 11,
      "outputs": [
        {
          "output_type": "display_data",
          "data": {
            "image/png": "[encoded data removed]",
            "text/plain": [
              "<Figure size 432x288 with 1 Axes>"
            ]
          },
          "metadata": {
            "tags": [],
            "needs_background": "light"
          }
        },
        {
          "output_type": "display_data",
          "data": {
            "image/png": "[encoded data removed]",
            "text/plain": [
              "<Figure size 432x288 with 1 Axes>"
            ]
          },
          "metadata": {
            "tags": [],
            "needs_background": "light"
          }
        },
        {
          "output_type": "display_data",
          "data": {
            "image/png": "[encoded data removed]",
            "text/plain": [
              "<Figure size 432x288 with 1 Axes>"
            ]
          },
          "metadata": {
            "tags": [],
            "needs_background": "light"
          }
        }
      ]
    },
    {
      "cell_type": "code",
      "metadata": {
        "colab": {
          "base_uri": "https://localhost:8080/",
          "height": 235
        },
        "id": "B3BPxyRtvHed",
        "outputId": "00b65b2a-6c0b-4eab-9534-1275982aced3"
      },
      "source": [
        "# Test\n",
        "gx = torch.FloatTensor([source[0]]).reshape((-1,1,128,128)) / 255\n",
        "style_vector = torch.FloatTensor(np.random.normal(size=(1, 128, 1, 1)))\n",
        "\n",
        "generator = Generator(En, De)\n",
        "gy = generator(gx, style_vector)\n",
        "\n",
        "dx = gy\n",
        "print(dx.shape)\n",
        "print(dx)\n",
        "descriminator = Discriminator(category_num=2)\n",
        "dy = descriminator(dx)\n",
        "print(dy[1].shape)\n",
        "print(dy[2].shape)\n",
        "\n",
        "plt.imshow(source[0], cmap='gray')\n",
        "plt.show()\n",
        "plt.imshow(gy.detach().numpy()[0,0], cmap='gray')\n",
        "plt.show()"
      ],
      "execution_count": 12,
      "outputs": [
        {
          "output_type": "error",
          "ename": "NameError",
          "evalue": "ignored",
          "traceback": [
            "\u001b[0;31m---------------------------------------------------------------------------\u001b[0m",
            "\u001b[0;31mNameError\u001b[0m                                 Traceback (most recent call last)",
            "\u001b[0;32m<ipython-input-12-ec82f0b8ebfa>\u001b[0m in \u001b[0;36m<module>\u001b[0;34m()\u001b[0m\n\u001b[1;32m      3\u001b[0m \u001b[0mstyle_vector\u001b[0m \u001b[0;34m=\u001b[0m \u001b[0mtorch\u001b[0m\u001b[0;34m.\u001b[0m\u001b[0mFloatTensor\u001b[0m\u001b[0;34m(\u001b[0m\u001b[0mnp\u001b[0m\u001b[0;34m.\u001b[0m\u001b[0mrandom\u001b[0m\u001b[0;34m.\u001b[0m\u001b[0mnormal\u001b[0m\u001b[0;34m(\u001b[0m\u001b[0msize\u001b[0m\u001b[0;34m=\u001b[0m\u001b[0;34m(\u001b[0m\u001b[0;36m1\u001b[0m\u001b[0;34m,\u001b[0m \u001b[0;36m128\u001b[0m\u001b[0;34m,\u001b[0m \u001b[0;36m1\u001b[0m\u001b[0;34m,\u001b[0m \u001b[0;36m1\u001b[0m\u001b[0;34m)\u001b[0m\u001b[0;34m)\u001b[0m\u001b[0;34m)\u001b[0m\u001b[0;34m\u001b[0m\u001b[0;34m\u001b[0m\u001b[0m\n\u001b[1;32m      4\u001b[0m \u001b[0;34m\u001b[0m\u001b[0m\n\u001b[0;32m----> 5\u001b[0;31m \u001b[0mgenerator\u001b[0m \u001b[0;34m=\u001b[0m \u001b[0mGenerator\u001b[0m\u001b[0;34m(\u001b[0m\u001b[0mEn\u001b[0m\u001b[0;34m,\u001b[0m \u001b[0mDe\u001b[0m\u001b[0;34m)\u001b[0m\u001b[0;34m\u001b[0m\u001b[0;34m\u001b[0m\u001b[0m\n\u001b[0m\u001b[1;32m      6\u001b[0m \u001b[0mgy\u001b[0m \u001b[0;34m=\u001b[0m \u001b[0mgenerator\u001b[0m\u001b[0;34m(\u001b[0m\u001b[0mgx\u001b[0m\u001b[0;34m,\u001b[0m \u001b[0mstyle_vector\u001b[0m\u001b[0;34m)\u001b[0m\u001b[0;34m\u001b[0m\u001b[0;34m\u001b[0m\u001b[0m\n\u001b[1;32m      7\u001b[0m \u001b[0;34m\u001b[0m\u001b[0m\n",
            "\u001b[0;31mNameError\u001b[0m: name 'En' is not defined"
          ]
        }
      ]
    },
    {
      "cell_type": "code",
      "metadata": {
        "id": "C-jHCgEDt1YG"
      },
      "source": [
        "# 실험 1\n",
        "# vector = np.random.normal(size=(1, 128, 1, 1))\n",
        "vector1 = torch.FloatTensor(np.random.normal(size=(1, 128)))\n",
        "vector2 = torch.FloatTensor(np.random.normal(size=(1, 128)))\n",
        "vector3 = torch.FloatTensor(np.random.normal(size=(1, 128)))"
      ],
      "execution_count": 16,
      "outputs": []
    },
    {
      "cell_type": "code",
      "metadata": {
        "colab": {
          "base_uri": "https://localhost:8080/"
        },
        "id": "TXzK81WNg9tq",
        "outputId": "055c11a7-07f3-4ac9-c466-65e82a128912"
      },
      "source": [
        "print(torch.cdist(vector1, vector2))\n",
        "print(torch.cdist(vector1, vector3))"
      ],
      "execution_count": 17,
      "outputs": [
        {
          "output_type": "stream",
          "text": [
            "tensor([[16.1609]])\n",
            "tensor([[15.4466]])\n"
          ],
          "name": "stdout"
        }
      ]
    },
    {
      "cell_type": "code",
      "metadata": {
        "colab": {
          "base_uri": "https://localhost:8080/"
        },
        "id": "HUWiYINclknr",
        "outputId": "4bd50f2a-cd91-436a-d7d8-5d2fa9c831c6"
      },
      "source": [
        "a = np.array([[-6,-2,-4]]) \n",
        "b = np.array([[1,3,2]]) \n",
        "\n",
        "c = torch.FloatTensor(a)\n",
        "d = torch.FloatTensor(b)\n",
        "\n",
        "print(0, c)\n",
        "di = 1/3\n",
        "print(1, c + (d - c) * di)\n",
        "di = 2/3\n",
        "print(2, c + (d - c) * di)\n",
        "print(3, d)\n",
        "\n",
        "print('distence:', torch.cdist(c, d, 1))"
      ],
      "execution_count": 18,
      "outputs": [
        {
          "output_type": "stream",
          "text": [
            "0 tensor([[-6., -2., -4.]])\n",
            "1 tensor([[-3.6667, -0.3333, -2.0000]])\n",
            "2 tensor([[-1.3333,  1.3333,  0.0000]])\n",
            "3 tensor([[1., 3., 2.]])\n",
            "distence: tensor([[18.]])\n"
          ],
          "name": "stdout"
        }
      ]
    },
    {
      "cell_type": "code",
      "metadata": {
        "colab": {
          "base_uri": "https://localhost:8080/",
          "height": 282
        },
        "id": "0TgQQvmcmoRb",
        "outputId": "05370d9b-3491-4004-ad0f-3574b4ba8cb8"
      },
      "source": [
        "a = np.array([[-1,-1]]) \n",
        "b = np.array([[1,1]]) \n",
        "\n",
        "c = torch.FloatTensor(a)\n",
        "d = torch.FloatTensor(b)\n",
        "\n",
        "def sub_distence(a, b, s):\n",
        "    return a + (b - a) * s\n",
        "\n",
        "print('distence:', torch.cdist(c, d, 1))\n",
        "n = 4\n",
        "for i in range(n):\n",
        "    sp = sub_distence(c, d, i/(n-1)).numpy()[0]\n",
        "    plt.scatter(sp[0], sp[1])\n",
        "plt.show()"
      ],
      "execution_count": 19,
      "outputs": [
        {
          "output_type": "stream",
          "text": [
            "distence: tensor([[4.]])\n"
          ],
          "name": "stdout"
        },
        {
          "output_type": "display_data",
          "data": {
            "image/png": "[encoded data removed]",
            "text/plain": [
              "<Figure size 432x288 with 1 Axes>"
            ]
          },
          "metadata": {
            "tags": [],
            "needs_background": "light"
          }
        }
      ]
    },
    {
      "cell_type": "code",
      "metadata": {
        "id": "MmE7AGV8eSGJ"
      },
      "source": [
        "# t\n",
        "plt.imshow(target[1,1], cmap='gray')\n",
        "plt.show()\n",
        "plt.imshow(source[1], cmap='gray')\n",
        "plt.show()"
      ],
      "execution_count": null,
      "outputs": []
    }
  ]
}