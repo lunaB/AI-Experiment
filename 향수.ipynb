{
  "nbformat": 4,
  "nbformat_minor": 0,
  "metadata": {
    "colab": {
      "name": "향수.ipynb",
      "provenance": [],
      "authorship_tag": "ABX9TyOxqLdqZ+74YRBMv0UAvCNW",
      "include_colab_link": true
    },
    "kernelspec": {
      "name": "python3",
      "display_name": "Python 3"
    },
    "language_info": {
      "name": "python"
    }
  },
  "cells": [
    {
      "cell_type": "markdown",
      "metadata": {
        "id": "view-in-github",
        "colab_type": "text"
      },
      "source": [
        "<a href=\"https://colab.research.google.com/github/lunaB/AI-Experiment/blob/master/%ED%96%A5%EC%88%98.ipynb\" target=\"_parent\"><img src=\"https://colab.research.google.com/assets/colab-badge.svg\" alt=\"Open In Colab\"/></a>"
      ]
    },
    {
      "cell_type": "code",
      "metadata": {
        "id": "90bKXGAS6SDA"
      },
      "source": [
        "from bs4 import BeautifulSoup\n",
        "from urllib.request import Request, urlopen\n",
        "import json\n",
        "\n",
        "req = Request(\"https://www.fragrantica.com/awards.php?show_mode=json_nominations&category_id=635\", headers={'User-Agent': 'Mozilla/5.0'})\n",
        "webpage = urlopen(req).read()\n",
        "obj = json.loads(webpage)"
      ],
      "execution_count": 2,
      "outputs": []
    },
    {
      "cell_type": "code",
      "metadata": {
        "colab": {
          "base_uri": "https://localhost:8080/"
        },
        "id": "oAma1smPAv4K",
        "outputId": "8da4372c-2cf9-4ed3-db21-bd1319108c77"
      },
      "source": [
        "obj.keys()"
      ],
      "execution_count": 3,
      "outputs": [
        {
          "output_type": "execute_result",
          "data": {
            "text/plain": [
              "dict_keys(['id', 'name', 'slug', 'category_type', 'category_filters', 'user_restrictions', 'nominations'])"
            ]
          },
          "metadata": {
            "tags": []
          },
          "execution_count": 3
        }
      ]
    },
    {
      "cell_type": "code",
      "metadata": {
        "id": "Gs6M6IWUA2kJ",
        "colab": {
          "base_uri": "https://localhost:8080/"
        },
        "outputId": "b93f2f41-3235-4727-a548-d7b595a5f1c4"
      },
      "source": [
        "# 10개만\n",
        "collect_num = 10\n",
        "nominations = obj['nominations'][0:collect_num]\n",
        "nominations_url = [i['url'] for i in nominations]\n",
        "nominations_name = [i['name'] for i in nominations]\n",
        "nominations_url"
      ],
      "execution_count": 4,
      "outputs": [
        {
          "output_type": "execute_result",
          "data": {
            "text/plain": [
              "['/perfume/Calvin-Klein/CK-One-276.html',\n",
              " '/perfume/Tom-Ford/Tobacco-Vanille-1825.html',\n",
              " '/perfume/Hermes/Un-Jardin-Sur-Le-Nil-18.html',\n",
              " '/perfume/Serge-Lutens/Chergui-2762.html',\n",
              " '/perfume/Mugler/Mugler-Cologne-708.html',\n",
              " '/perfume/Bvlgari/Black-154.html',\n",
              " '/perfume/Tauer-Perfumes/02-L-Air-du-Desert-Marocain-4573.html',\n",
              " '/perfume/Diptyque/Philosykos-3865.html',\n",
              " '/perfume/Chanel/Coromandel-Eau-de-Parfum-41783.html',\n",
              " '/perfume/4711/4711-Original-Eau-de-Cologne-3256.html']"
            ]
          },
          "metadata": {
            "tags": []
          },
          "execution_count": 4
        }
      ]
    },
    {
      "cell_type": "code",
      "metadata": {
        "colab": {
          "base_uri": "https://localhost:8080/"
        },
        "id": "p7Gxzl9MFyZX",
        "outputId": "5af90914-12c5-4d99-f25e-810b9eec1721"
      },
      "source": [
        "## test code\n",
        "url = 'https://www.fragrantica.com/perfume/Calvin-Klein/CK-One-276.html'\n",
        "req = Request(url, headers={'User-Agent': 'Mozilla/5.0'})\n",
        "webpage = urlopen(req).read()\n",
        "soup = BeautifulSoup(webpage, 'html.parser')\n",
        "accord = soup.select('#main-content .cell .grid-x .cell.accord-box .accord-bar')\n",
        "print(accord[0].text)\n",
        "reviews = soup.select(\"#all-reviews .cell .grid-x .cell.fragrance-review-box div[itemprop='reviewBody']\")\n",
        "print(reviews[0].text)"
      ],
      "execution_count": 5,
      "outputs": [
        {
          "output_type": "stream",
          "text": [
            "citrus\n",
            "I bought it as a gift for my fiancé about two or three years ago, and he didn't like it, so I got this perfume. I think it's really cool, fresh, citrusy scent, but it still smells fruity. In summer, I like to wear it in the very heat, or at home, for example, when cleaning or after morning workouts and showers. I think it's a super everyday fragrance. There's nothing intrusive about it. Clean, easy to wear, absolutely unisex. Longevity is great, even on my skin, but especially on clothes.\n"
          ],
          "name": "stdout"
        }
      ]
    },
    {
      "cell_type": "code",
      "metadata": {
        "id": "b4HpSrf4BAxY"
      },
      "source": [
        "database = []\n",
        "base = 'https://www.fragrantica.com'\n",
        "for i in range(len(nominations_url)):\n",
        "    url = base + nominations_url[i]\n",
        "    req = Request(url, headers={'User-Agent': 'Mozilla/5.0'})\n",
        "    webpage = urlopen(req).read()\n",
        "    soup = BeautifulSoup(webpage, 'html.parser')\n",
        "    accords = soup.select('#main-content .cell .grid-x .cell.accord-box .accord-bar')\n",
        "    reviews = soup.select(\"#all-reviews .cell .grid-x .cell.fragrance-review-box div[itemprop='reviewBody']\")\n",
        "\n",
        "    database.append({\n",
        "        'name': nominations_name[i],\n",
        "        'accords': list(map(lambda x: x.text, accords)),\n",
        "        'reviews': list(map(lambda x: x.text, reviews))\n",
        "    })"
      ],
      "execution_count": 6,
      "outputs": []
    },
    {
      "cell_type": "code",
      "metadata": {
        "colab": {
          "base_uri": "https://localhost:8080/"
        },
        "id": "QKDQmcT6E-OK",
        "outputId": "255b1c4f-2604-4204-cfbf-05aba187eef7"
      },
      "source": [
        "import nltk\n",
        "nltk.download('punkt')"
      ],
      "execution_count": 7,
      "outputs": [
        {
          "output_type": "stream",
          "text": [
            "[nltk_data] Downloading package punkt to /root/nltk_data...\n",
            "[nltk_data]   Package punkt is already up-to-date!\n"
          ],
          "name": "stdout"
        },
        {
          "output_type": "execute_result",
          "data": {
            "text/plain": [
              "True"
            ]
          },
          "metadata": {
            "tags": []
          },
          "execution_count": 7
        }
      ]
    },
    {
      "cell_type": "code",
      "metadata": {
        "id": "_xFByWVaClKs"
      },
      "source": [
        "from nltk.tokenize import word_tokenize, sent_tokenize\n",
        "# sent_tokenize(database[0]['reviews'][0])\n",
        "# word_tokenize(database[0]['reviews'][0])"
      ],
      "execution_count": 8,
      "outputs": []
    },
    {
      "cell_type": "code",
      "metadata": {
        "id": "8A8SgiKHG6Tc"
      },
      "source": [
        "from gensim.models import FastText\n",
        "data = list(map(lambda x: word_tokenize(x), database[0]['reviews']))\n",
        "model = FastText(data, size=100, window=5, min_count=5, workers=4, sg=1)\n",
        "model.save('fasttext')\n",
        "model.wv.save_word2vec_format(\"fasttext_vis\")"
      ],
      "execution_count": 65,
      "outputs": []
    },
    {
      "cell_type": "code",
      "metadata": {
        "id": "7FTs9NnSIe1g"
      },
      "source": [
        "# loaded_model = FastText.load(\"fasttext\")"
      ],
      "execution_count": 61,
      "outputs": []
    },
    {
      "cell_type": "code",
      "metadata": {
        "colab": {
          "base_uri": "https://localhost:8080/"
        },
        "id": "MUFQ_P6zLh3v",
        "outputId": "1dc96f37-6078-4576-df45-07d646753954"
      },
      "source": [
        "!python -m gensim.scripts.word2vec2tensor --input fasttext_vis --output fasttext_vis"
      ],
      "execution_count": 66,
      "outputs": [
        {
          "output_type": "stream",
          "text": [
            "2021-04-10 19:32:47,564 - word2vec2tensor - INFO - running /usr/local/lib/python3.7/dist-packages/gensim/scripts/word2vec2tensor.py --input fasttext_vis --output fasttext_vis\n",
            "2021-04-10 19:32:47,564 - utils_any2vec - INFO - loading projection weights from fasttext_vis\n",
            "2021-04-10 19:32:47,614 - utils_any2vec - INFO - loaded (504, 100) matrix from fasttext_vis\n",
            "2021-04-10 19:32:47,658 - word2vec2tensor - INFO - 2D tensor file saved to fasttext_vis_tensor.tsv\n",
            "2021-04-10 19:32:47,658 - word2vec2tensor - INFO - Tensor metadata file saved to fasttext_vis_metadata.tsv\n",
            "2021-04-10 19:32:47,658 - word2vec2tensor - INFO - finished running word2vec2tensor.py\n"
          ],
          "name": "stdout"
        }
      ]
    },
    {
      "cell_type": "code",
      "metadata": {
        "colab": {
          "base_uri": "https://localhost:8080/"
        },
        "id": "LrnojzXtF3gv",
        "outputId": "d64c696f-68f0-4477-8b59-db974d52e968"
      },
      "source": [
        "model.wv.most_similar('good')"
      ],
      "execution_count": 67,
      "outputs": [
        {
          "output_type": "execute_result",
          "data": {
            "text/plain": [
              "[('looking', 0.999798059463501),\n",
              " ('Good', 0.9997888803482056),\n",
              " ('inoffensive', 0.999782145023346),\n",
              " ('staple', 0.9997768402099609),\n",
              " ('groundbreaking', 0.999772310256958),\n",
              " ('though', 0.9997702836990356),\n",
              " ('sometimes', 0.9997677206993103),\n",
              " ('going', 0.9997669458389282),\n",
              " ('bathroom', 0.9997662901878357),\n",
              " ('thought', 0.9997656941413879)]"
            ]
          },
          "metadata": {
            "tags": []
          },
          "execution_count": 67
        }
      ]
    },
    {
      "cell_type": "code",
      "metadata": {
        "id": "zK6LPMkeJN4x"
      },
      "source": [
        "# https://projector.tensorflow.org/"
      ],
      "execution_count": null,
      "outputs": []
    }
  ]
}